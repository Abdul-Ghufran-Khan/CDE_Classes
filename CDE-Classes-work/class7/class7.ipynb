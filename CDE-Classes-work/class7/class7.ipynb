{
 "cells": [
  {
   "cell_type": "markdown",
   "id": "0225bf1f-c780-4343-b83e-f551b393923d",
   "metadata": {},
   "source": [
    "#\tSun, Aug 17, 2025"
   ]
  },
  {
   "cell_type": "markdown",
   "id": "2999b4f7-8eb6-43c2-90da-e7a6b408e9cf",
   "metadata": {},
   "source": [
    "## Topic :Loop"
   ]
  },
  {
   "cell_type": "code",
   "execution_count": 1,
   "id": "621e4439-90a8-4113-8a08-22f133084287",
   "metadata": {},
   "outputs": [
    {
     "name": "stdout",
     "output_type": "stream",
     "text": [
      "Happy Birthday\n",
      "Happy Birthday\n",
      "Happy Birthday\n",
      "Happy Birthday\n",
      "Happy Birthday\n"
     ]
    }
   ],
   "source": [
    "for i in [1,2,3,4,5]:\n",
    "    print(\"Happy Birthday\")"
   ]
  },
  {
   "cell_type": "code",
   "execution_count": 3,
   "id": "03394160-e09e-4694-b8be-b09bbbffa677",
   "metadata": {},
   "outputs": [
    {
     "name": "stdout",
     "output_type": "stream",
     "text": [
      "Happy Birthday\n",
      "Happy Birthday\n",
      "Happy Birthday\n",
      "Happy Birthday\n",
      "Happy Birthday\n"
     ]
    }
   ],
   "source": [
    "for i in range(5):\n",
    "    print(\"Happy Birthday\")"
   ]
  },
  {
   "cell_type": "code",
   "execution_count": 22,
   "id": "4e2111f1-80d9-4768-898f-57b45f3f40cc",
   "metadata": {},
   "outputs": [
    {
     "name": "stdin",
     "output_type": "stream",
     "text": [
      "enter a number 6\n"
     ]
    },
    {
     "name": "stdout",
     "output_type": "stream",
     "text": [
      "36\n",
      "49\n",
      "64\n",
      "81\n",
      "100\n"
     ]
    }
   ],
   "source": [
    "m=int(input(\"enter a number\"))\n",
    "for i in range(m,m+5):\n",
    "    print(i*i)"
   ]
  },
  {
   "cell_type": "code",
   "execution_count": 23,
   "id": "51358338-27df-4786-8da0-59af4836b21c",
   "metadata": {},
   "outputs": [
    {
     "name": "stdin",
     "output_type": "stream",
     "text": [
      "enter a number 8\n"
     ]
    },
    {
     "name": "stdout",
     "output_type": "stream",
     "text": [
      "1\n",
      "4\n",
      "9\n",
      "16\n",
      "25\n",
      "36\n",
      "49\n"
     ]
    }
   ],
   "source": [
    "m=int(input(\"enter a number\"))\n",
    "for i in range(1,m):\n",
    "    print(i*i)"
   ]
  },
  {
   "cell_type": "code",
   "execution_count": 44,
   "id": "8d12a3c3-f5a6-43c8-8882-a854ff9d4079",
   "metadata": {},
   "outputs": [
    {
     "name": "stdin",
     "output_type": "stream",
     "text": [
      "Enter a number that you would like to see table 5\n"
     ]
    },
    {
     "name": "stdout",
     "output_type": "stream",
     "text": [
      "5*1 = 5\n",
      "5*2 = 10\n",
      "5*3 = 15\n",
      "5*4 = 20\n",
      "5*5 = 25\n",
      "5*6 = 30\n",
      "5*7 = 35\n",
      "5*8 = 40\n",
      "5*9 = 45\n",
      "5*10 = 50\n"
     ]
    }
   ],
   "source": [
    "number = int(input(\"Enter a number that you would like to see table\"))\n",
    "for i in [number]:\n",
    "    for j in range (1,11):\n",
    "        print(f\"{i}*{j} = {i*j}\")"
   ]
  },
  {
   "cell_type": "code",
   "execution_count": 47,
   "id": "98c0a623-8250-433f-8c78-25de29816f10",
   "metadata": {},
   "outputs": [
    {
     "name": "stdout",
     "output_type": "stream",
     "text": [
      "2*1 = 2\n",
      "2*2 = 4\n",
      "2*3 = 6\n",
      "2*4 = 8\n",
      "2*5 = 10\n",
      "2*6 = 12\n",
      "2*7 = 14\n",
      "2*8 = 16\n",
      "2*9 = 18\n",
      "2*10 = 20\n",
      "3*1 = 3\n",
      "3*2 = 6\n",
      "3*3 = 9\n",
      "3*4 = 12\n",
      "3*5 = 15\n",
      "3*6 = 18\n",
      "3*7 = 21\n",
      "3*8 = 24\n",
      "3*9 = 27\n",
      "4*1 = 4\n",
      "4*2 = 8\n",
      "4*3 = 12\n",
      "4*4 = 16\n",
      "4*5 = 20\n",
      "4*6 = 24\n",
      "4*7 = 28\n",
      "4*8 = 32\n",
      "5*1 = 5\n",
      "5*2 = 10\n",
      "5*3 = 15\n",
      "5*4 = 20\n",
      "5*5 = 25\n",
      "5*6 = 30\n",
      "5*7 = 35\n"
     ]
    }
   ],
   "source": [
    "num = 11\n",
    "for i in range(2,6):\n",
    "    for j in range (1,num):\n",
    "        print(f\"{i}*{j} = {i*j}\")\n",
    "    num -= 1"
   ]
  },
  {
   "cell_type": "markdown",
   "id": "7d6e2b02-21ec-40ca-8c79-207a59989ad8",
   "metadata": {},
   "source": [
    "- ## Dictionaries"
   ]
  },
  {
   "cell_type": "code",
   "execution_count": null,
   "id": "42ce4267-e96d-4456-8087-16cddf01dcfe",
   "metadata": {},
   "outputs": [],
   "source": []
  },
  {
   "cell_type": "code",
   "execution_count": 53,
   "id": "b1e91699-9768-41b7-b51c-e566b05ef9e7",
   "metadata": {},
   "outputs": [],
   "source": [
    "bio_data = {\n",
    "    \"f_name\" :'Muhammad',\n",
    "    \"l_name\" : 'Faizan',\n",
    "    \"age\" : 22,\n",
    "    \"weight\" : 60\n",
    "}\n"
   ]
  },
  {
   "cell_type": "code",
   "execution_count": 56,
   "id": "9868076e-97a0-4faf-8d3f-c73e15b0ef56",
   "metadata": {},
   "outputs": [],
   "source": [
    "bio_data['qualification'] = \"Undergraduate\""
   ]
  },
  {
   "cell_type": "code",
   "execution_count": 57,
   "id": "35aeda73-71dd-4e23-8e5d-52078bef5936",
   "metadata": {},
   "outputs": [
    {
     "data": {
      "text/plain": [
       "{'f_name': 'Muhammad',\n",
       " 'l_name': 'Faizan',\n",
       " 'age': 22,\n",
       " 'weight': 60,\n",
       " 'qualification': 'Undergraduate'}"
      ]
     },
     "execution_count": 57,
     "metadata": {},
     "output_type": "execute_result"
    }
   ],
   "source": [
    "bio_data"
   ]
  },
  {
   "cell_type": "code",
   "execution_count": 60,
   "id": "7c7b016d-7c88-4dd2-9303-d6264942edea",
   "metadata": {},
   "outputs": [
    {
     "data": {
      "text/plain": [
       "60"
      ]
     },
     "execution_count": 60,
     "metadata": {},
     "output_type": "execute_result"
    }
   ],
   "source": [
    "bio_data.pop(\"weight\") #delete Argumented key & value"
   ]
  },
  {
   "cell_type": "code",
   "execution_count": 61,
   "id": "fe6e764b-a9a6-4200-9c54-9514ddd87c0d",
   "metadata": {},
   "outputs": [
    {
     "data": {
      "text/plain": [
       "{'f_name': 'Muhammad',\n",
       " 'l_name': 'Faizan',\n",
       " 'age': 22,\n",
       " 'qualification': 'Undergraduate'}"
      ]
     },
     "execution_count": 61,
     "metadata": {},
     "output_type": "execute_result"
    }
   ],
   "source": [
    "bio_data"
   ]
  },
  {
   "cell_type": "code",
   "execution_count": 63,
   "id": "b1c689c7-e3f8-48ae-acc0-42b43b720159",
   "metadata": {},
   "outputs": [
    {
     "data": {
      "text/plain": [
       "('qualification', 'Undergraduate')"
      ]
     },
     "execution_count": 63,
     "metadata": {},
     "output_type": "execute_result"
    }
   ],
   "source": [
    "bio_data.popitem() #delete  last option"
   ]
  },
  {
   "cell_type": "code",
   "execution_count": 64,
   "id": "9b40872d-507f-4a6f-b0bd-a5e4304864be",
   "metadata": {},
   "outputs": [
    {
     "data": {
      "text/plain": [
       "{'f_name': 'Muhammad', 'l_name': 'Faizan', 'age': 22}"
      ]
     },
     "execution_count": 64,
     "metadata": {},
     "output_type": "execute_result"
    }
   ],
   "source": [
    "bio_data"
   ]
  },
  {
   "cell_type": "code",
   "execution_count": 82,
   "id": "3658bf90-21fe-445f-ac75-74b6b5e827c4",
   "metadata": {},
   "outputs": [
    {
     "data": {
      "text/plain": [
       "'M'"
      ]
     },
     "execution_count": 82,
     "metadata": {},
     "output_type": "execute_result"
    }
   ],
   "source": [
    "bio_data.setdefault(\"f_name\") #check the key in dictionary if exist return value and if  not exist add key with none value"
   ]
  },
  {
   "cell_type": "code",
   "execution_count": 83,
   "id": "34304154-9dab-4603-b962-e1abfdb76c6e",
   "metadata": {},
   "outputs": [],
   "source": [
    "bio_data.setdefault(\"weight\")"
   ]
  },
  {
   "cell_type": "code",
   "execution_count": 84,
   "id": "68ebb14c-1f21-42da-a8d5-cc0028ca5704",
   "metadata": {},
   "outputs": [
    {
     "data": {
      "text/plain": [
       "{'f_name': 'M', 'l_name': 'Faizan', 'age': 23, 'weight': None}"
      ]
     },
     "execution_count": 84,
     "metadata": {},
     "output_type": "execute_result"
    }
   ],
   "source": [
    "bio_data\n"
   ]
  },
  {
   "cell_type": "code",
   "execution_count": 85,
   "id": "6f02c92f-5b1a-4ffe-ba7d-de92f20b50c0",
   "metadata": {},
   "outputs": [],
   "source": [
    "bio_data.update({\"age\":23}) #updatw value of the given key"
   ]
  },
  {
   "cell_type": "code",
   "execution_count": 86,
   "id": "b3c23b9f-e8d5-4bf2-8a0b-172c110046b2",
   "metadata": {},
   "outputs": [
    {
     "data": {
      "text/plain": [
       "{'f_name': 'M', 'l_name': 'Faizan', 'age': 23, 'weight': None}"
      ]
     },
     "execution_count": 86,
     "metadata": {},
     "output_type": "execute_result"
    }
   ],
   "source": [
    "bio_data"
   ]
  },
  {
   "cell_type": "code",
   "execution_count": null,
   "id": "11e7575b-43b0-47c2-839d-ce042194a5a8",
   "metadata": {},
   "outputs": [],
   "source": []
  },
  {
   "cell_type": "code",
   "execution_count": null,
   "id": "bd45ec37-8b83-4189-855e-be029de40d17",
   "metadata": {},
   "outputs": [],
   "source": []
  }
 ],
 "metadata": {
  "kernelspec": {
   "display_name": "Python 3 (ipykernel)",
   "language": "python",
   "name": "python3"
  },
  "language_info": {
   "codemirror_mode": {
    "name": "ipython",
    "version": 3
   },
   "file_extension": ".py",
   "mimetype": "text/x-python",
   "name": "python",
   "nbconvert_exporter": "python",
   "pygments_lexer": "ipython3",
   "version": "3.13.5"
  }
 },
 "nbformat": 4,
 "nbformat_minor": 5
}
