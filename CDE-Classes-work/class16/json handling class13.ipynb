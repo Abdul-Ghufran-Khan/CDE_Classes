{
 "cells": [
  {
   "cell_type": "code",
   "execution_count": 3,
   "id": "0cc4fd25-c149-4e46-a765-a83f931cae22",
   "metadata": {},
   "outputs": [],
   "source": [
    "import json"
   ]
  },
  {
   "cell_type": "code",
   "execution_count": 8,
   "id": "53661833-8846-4c59-ba89-02380f3976c3",
   "metadata": {},
   "outputs": [],
   "source": [
    "data_set = {\n",
    "  \"student\": {\n",
    "    \"studentId\": \"S101\",\n",
    "    \"name\": \"Ali Khan\",\n",
    "    \"class\": \"10th Grade\",\n",
    "    \"marks\": 87\n",
    "  },\n",
    "  \"product\": {\n",
    "    \"productId\": \"P202\",\n",
    "    \"name\": \"Wireless Mouse\",\n",
    "    \"price\": 1500,\n",
    "    \"inStock\": True\n",
    "  },\n",
    "  \"employee\": {\n",
    "    \"employeeId\": \"E303\",\n",
    "    \"name\": \"Sara Ahmed\",\n",
    "    \"department\": \"HR\",\n",
    "    \"salary\": 55000\n",
    "  }\n",
    "}\n",
    "with open(\"data.json\", \"w\") as f:\n",
    "     json.dump(data_set, f)\n"
   ]
  },
  {
   "cell_type": "code",
   "execution_count": 10,
   "id": "cedea587-5378-4efb-bede-3b3834d1530a",
   "metadata": {},
   "outputs": [
    {
     "data": {
      "text/plain": [
       "{'student': {'studentId': 'S101',\n",
       "  'name': 'Ali Khan',\n",
       "  'class': '10th Grade',\n",
       "  'marks': 87},\n",
       " 'product': {'productId': 'P202',\n",
       "  'name': 'Wireless Mouse',\n",
       "  'price': 1500,\n",
       "  'inStock': True},\n",
       " 'employee': {'employeeId': 'E303',\n",
       "  'name': 'Sara Ahmed',\n",
       "  'department': 'HR',\n",
       "  'salary': 55000}}"
      ]
     },
     "execution_count": 10,
     "metadata": {},
     "output_type": "execute_result"
    }
   ],
   "source": [
    "with open(\"data.json\", \"r\") as f:\n",
    "  content = json.load(f)\n",
    "content"
   ]
  },
  {
   "cell_type": "code",
   "execution_count": 22,
   "id": "20d8f1a3-5b42-4d42-a146-6741f226653e",
   "metadata": {},
   "outputs": [
    {
     "ename": "UnsupportedOperation",
     "evalue": "not readable",
     "output_type": "error",
     "traceback": [
      "\u001b[1;31m---------------------------------------------------------------------------\u001b[0m",
      "\u001b[1;31mUnsupportedOperation\u001b[0m                      Traceback (most recent call last)",
      "Cell \u001b[1;32mIn[22], line 2\u001b[0m\n\u001b[0;32m      1\u001b[0m \u001b[38;5;28;01mwith\u001b[39;00m \u001b[38;5;28mopen\u001b[39m(\u001b[38;5;124m\"\u001b[39m\u001b[38;5;124mdata.json\u001b[39m\u001b[38;5;124m\"\u001b[39m, \u001b[38;5;124m\"\u001b[39m\u001b[38;5;124mw\u001b[39m\u001b[38;5;124m\"\u001b[39m) \u001b[38;5;28;01mas\u001b[39;00m f:\n\u001b[1;32m----> 2\u001b[0m   content \u001b[38;5;241m=\u001b[39m json\u001b[38;5;241m.\u001b[39mload(f)\n\u001b[0;32m      3\u001b[0m content\n",
      "File \u001b[1;32m~\\anaconda3\\Lib\\json\\__init__.py:293\u001b[0m, in \u001b[0;36mload\u001b[1;34m(fp, cls, object_hook, parse_float, parse_int, parse_constant, object_pairs_hook, **kw)\u001b[0m\n\u001b[0;32m    274\u001b[0m \u001b[38;5;28;01mdef\u001b[39;00m\u001b[38;5;250m \u001b[39m\u001b[38;5;21mload\u001b[39m(fp, \u001b[38;5;241m*\u001b[39m, \u001b[38;5;28mcls\u001b[39m\u001b[38;5;241m=\u001b[39m\u001b[38;5;28;01mNone\u001b[39;00m, object_hook\u001b[38;5;241m=\u001b[39m\u001b[38;5;28;01mNone\u001b[39;00m, parse_float\u001b[38;5;241m=\u001b[39m\u001b[38;5;28;01mNone\u001b[39;00m,\n\u001b[0;32m    275\u001b[0m         parse_int\u001b[38;5;241m=\u001b[39m\u001b[38;5;28;01mNone\u001b[39;00m, parse_constant\u001b[38;5;241m=\u001b[39m\u001b[38;5;28;01mNone\u001b[39;00m, object_pairs_hook\u001b[38;5;241m=\u001b[39m\u001b[38;5;28;01mNone\u001b[39;00m, \u001b[38;5;241m*\u001b[39m\u001b[38;5;241m*\u001b[39mkw):\n\u001b[0;32m    276\u001b[0m \u001b[38;5;250m    \u001b[39m\u001b[38;5;124;03m\"\"\"Deserialize ``fp`` (a ``.read()``-supporting file-like object containing\u001b[39;00m\n\u001b[0;32m    277\u001b[0m \u001b[38;5;124;03m    a JSON document) to a Python object.\u001b[39;00m\n\u001b[0;32m    278\u001b[0m \n\u001b[1;32m   (...)\u001b[0m\n\u001b[0;32m    291\u001b[0m \u001b[38;5;124;03m    kwarg; otherwise ``JSONDecoder`` is used.\u001b[39;00m\n\u001b[0;32m    292\u001b[0m \u001b[38;5;124;03m    \"\"\"\u001b[39;00m\n\u001b[1;32m--> 293\u001b[0m     \u001b[38;5;28;01mreturn\u001b[39;00m loads(fp\u001b[38;5;241m.\u001b[39mread(),\n\u001b[0;32m    294\u001b[0m         \u001b[38;5;28mcls\u001b[39m\u001b[38;5;241m=\u001b[39m\u001b[38;5;28mcls\u001b[39m, object_hook\u001b[38;5;241m=\u001b[39mobject_hook,\n\u001b[0;32m    295\u001b[0m         parse_float\u001b[38;5;241m=\u001b[39mparse_float, parse_int\u001b[38;5;241m=\u001b[39mparse_int,\n\u001b[0;32m    296\u001b[0m         parse_constant\u001b[38;5;241m=\u001b[39mparse_constant, object_pairs_hook\u001b[38;5;241m=\u001b[39mobject_pairs_hook, \u001b[38;5;241m*\u001b[39m\u001b[38;5;241m*\u001b[39mkw)\n",
      "\u001b[1;31mUnsupportedOperation\u001b[0m: not readable"
     ]
    }
   ],
   "source": [
    "with open(\"data.json\", \"r\") as f:\n",
    "  content = json.load(f)\n",
    "content"
   ]
  },
  {
   "cell_type": "markdown",
   "id": "888caadb-4425-4575-bbec-4cdceba3fc75",
   "metadata": {},
   "source": [
    "# Error Handling"
   ]
  },
  {
   "cell_type": "code",
   "execution_count": 31,
   "id": "8e1ad8e8-abaf-4090-b5fc-85e1e1215259",
   "metadata": {},
   "outputs": [
    {
     "name": "stdout",
     "output_type": "stream",
     "text": [
      "Before try except\n",
      "division by zero\n",
      "After try except\n"
     ]
    }
   ],
   "source": [
    "print(\"Before try except\") \n",
    "\n",
    "\n",
    "try:\n",
    "    calculation =5/0\n",
    "except Exception as e:\n",
    "    print(e)\n",
    "\n",
    "print(\"After try except\")    "
   ]
  },
  {
   "cell_type": "code",
   "execution_count": 34,
   "id": "8cc783ca-18a8-4822-97ae-ead4b5119599",
   "metadata": {},
   "outputs": [
    {
     "name": "stdin",
     "output_type": "stream",
     "text": [
      "Enter a number:  -.1\n"
     ]
    },
    {
     "name": "stdout",
     "output_type": "stream",
     "text": [
      "Error: Please enter a valid integer!\n",
      "Program finished, thanks for using!\n"
     ]
    }
   ],
   "source": [
    "try:\n",
    "    num = int(input(\"Enter a number: \"))\n",
    "\n",
    "    if num % 2 == 0:\n",
    "        print(num, \"is Even\")\n",
    "    else:\n",
    "        print(num, \"is Odd\")\n",
    "\n",
    "except ValueError:\n",
    "    print(\"Error: Please enter a valid integer!\")\n",
    "\n",
    "finally:\n",
    "    print(\"Program finished, thanks for using!\")\n"
   ]
  },
  {
   "cell_type": "code",
   "execution_count": null,
   "id": "b5c7b64c-e159-40f8-80ba-209d450d0257",
   "metadata": {},
   "outputs": [],
   "source": []
  }
 ],
 "metadata": {
  "kernelspec": {
   "display_name": "Python 3 (ipykernel)",
   "language": "python",
   "name": "python3"
  },
  "language_info": {
   "codemirror_mode": {
    "name": "ipython",
    "version": 3
   },
   "file_extension": ".py",
   "mimetype": "text/x-python",
   "name": "python",
   "nbconvert_exporter": "python",
   "pygments_lexer": "ipython3",
   "version": "3.13.5"
  }
 },
 "nbformat": 4,
 "nbformat_minor": 5
}
