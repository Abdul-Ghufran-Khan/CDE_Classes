{
 "cells": [
  {
   "cell_type": "markdown",
   "id": "af496110-0205-40e3-a4b2-568fbc0466a5",
   "metadata": {},
   "source": [
    "# Sun, Aug 3, 2025"
   ]
  },
  {
   "cell_type": "markdown",
   "id": "92b9a121-8fe5-4d8b-9d48-34d3da046c79",
   "metadata": {},
   "source": [
    "## Concatenation"
   ]
  },
  {
   "cell_type": "markdown",
   "id": "bbb31f71-01b7-4932-abca-c55d22783000",
   "metadata": {},
   "source": [
    "- METHOD -1 (using + operator)\n",
    "- METHOD -2 (using f-string)\n",
    "- METHOD -3 (using .format())"
   ]
  },
  {
   "cell_type": "code",
   "execution_count": 2,
   "id": "47bb6a97-975c-40a6-8914-2da2185c52d0",
   "metadata": {},
   "outputs": [],
   "source": [
    "str1 = \"sunlo\"\n",
    "str2 = \"dehan se...\""
   ]
  },
  {
   "cell_type": "code",
   "execution_count": 3,
   "id": "46b30722-7ecc-4393-9a18-083ad1caf00b",
   "metadata": {},
   "outputs": [
    {
     "name": "stdout",
     "output_type": "stream",
     "text": [
      "sunlo dehan se...\n"
     ]
    }
   ],
   "source": [
    "print(str1 + ' ' + str2) # method-1"
   ]
  },
  {
   "cell_type": "code",
   "execution_count": 8,
   "id": "1659bdd3-5715-4d94-ae80-e6fed64eea98",
   "metadata": {},
   "outputs": [
    {
     "name": "stdout",
     "output_type": "stream",
     "text": [
      "achaa meri bat sunlo dehan se... ok\n"
     ]
    }
   ],
   "source": [
    "print(f\"achaa meri bat {str1} {str2} ok\") #method-2"
   ]
  },
  {
   "cell_type": "code",
   "execution_count": 9,
   "id": "681f6fce-572a-41a4-bc92-3c4ec4d94fb8",
   "metadata": {},
   "outputs": [
    {
     "data": {
      "text/plain": [
       "'achaa meri bat sunlo dehan se... ok'"
      ]
     },
     "execution_count": 9,
     "metadata": {},
     "output_type": "execute_result"
    }
   ],
   "source": [
    "\"achaa meri bat {0} {1} ok\".format(str1, str2)"
   ]
  },
  {
   "cell_type": "markdown",
   "id": "354565e6-c8b1-4738-afeb-2513706149d1",
   "metadata": {},
   "source": [
    "##### TASK: Solution"
   ]
  },
  {
   "cell_type": "code",
   "execution_count": 10,
   "id": "aeae23fb-9fae-4bd1-87de-9852bae45057",
   "metadata": {},
   "outputs": [
    {
     "name": "stdin",
     "output_type": "stream",
     "text": [
      "Enter your first name:  m.\n",
      "Enter your last name:  faizan\n",
      "Enter your middle name:  zia\n"
     ]
    }
   ],
   "source": [
    "first_name = input('Enter your first name: ')\n",
    "last_name = input('Enter your last name: ')\n",
    "middle_name = input('Enter your middle name: ')"
   ]
  },
  {
   "cell_type": "code",
   "execution_count": 11,
   "id": "3829d2cb-a305-4f49-b2ea-fdc0cbe4977c",
   "metadata": {},
   "outputs": [
    {
     "name": "stdout",
     "output_type": "stream",
     "text": [
      "Hi my name is m. zia faizan\n"
     ]
    }
   ],
   "source": [
    "print(\"Hi my name is \" + first_name + \" \"+ middle_name + \" \" +last_name) # method -1"
   ]
  },
  {
   "cell_type": "code",
   "execution_count": 14,
   "id": "43face70-1ca9-40b6-80ba-f49b85a47806",
   "metadata": {},
   "outputs": [
    {
     "name": "stdout",
     "output_type": "stream",
     "text": [
      "m. zia faizan\n"
     ]
    }
   ],
   "source": [
    "print(\"{0} {2} {1}\".format(first_name,last_name,middle_name))"
   ]
  },
  {
   "cell_type": "markdown",
   "id": "f844dbc1-4410-4773-993a-e8378f0008b7",
   "metadata": {},
   "source": [
    "#### user input"
   ]
  },
  {
   "cell_type": "code",
   "execution_count": 15,
   "id": "d2b282f3-8294-460e-bc21-ec19a481f08d",
   "metadata": {},
   "outputs": [
    {
     "name": "stdin",
     "output_type": "stream",
     "text": [
      "Enter your first name:  faizan\n"
     ]
    }
   ],
   "source": [
    "f_name = input(\"Enter your first name: \")"
   ]
  },
  {
   "cell_type": "code",
   "execution_count": 16,
   "id": "eab0861a-d80a-4825-86d3-439e2e39b45b",
   "metadata": {},
   "outputs": [
    {
     "name": "stdin",
     "output_type": "stream",
     "text": [
      "Enter your age:  22\n"
     ]
    }
   ],
   "source": [
    "age  = int(input(\"Enter your age: \")) # NOTE: by defualt input() returns string type"
   ]
  },
  {
   "cell_type": "code",
   "execution_count": 17,
   "id": "c7f4d283-40b1-4825-b667-b098cf4cf133",
   "metadata": {},
   "outputs": [
    {
     "name": "stdin",
     "output_type": "stream",
     "text": [
      "Enter your weight:  58.5\n"
     ]
    }
   ],
   "source": [
    "weight  = float(input(\"Enter your weight: \"))"
   ]
  },
  {
   "cell_type": "code",
   "execution_count": 19,
   "id": "3613bca0-3844-40ed-9dd8-b0b5e1e47d59",
   "metadata": {},
   "outputs": [
    {
     "name": "stdin",
     "output_type": "stream",
     "text": [
      "Enter your age:  22\n"
     ]
    }
   ],
   "source": [
    "age  = int(input(\"Enter your age: \"))"
   ]
  },
  {
   "cell_type": "markdown",
   "id": "b714a042-a73a-48c1-9782-bcb85cced043",
   "metadata": {},
   "source": [
    "## Conditional Statement:"
   ]
  },
  {
   "cell_type": "markdown",
   "id": "48fffe55-0fec-45f7-8cf7-7398fdc5476e",
   "metadata": {},
   "source": [
    "- if \n",
    "- elif \n",
    "- else"
   ]
  },
  {
   "cell_type": "code",
   "execution_count": 20,
   "id": "5e94e673-0ec2-4557-ba35-189183efa9ff",
   "metadata": {},
   "outputs": [],
   "source": [
    "eid = False"
   ]
  },
  {
   "cell_type": "markdown",
   "id": "daf96fd2-8c6e-47de-8fd2-af3f0988bc82",
   "metadata": {},
   "source": [
    " ### if-else"
   ]
  },
  {
   "cell_type": "code",
   "execution_count": 21,
   "id": "2ef844a5-8dda-47f1-8457-6677361d4291",
   "metadata": {},
   "outputs": [
    {
     "name": "stdout",
     "output_type": "stream",
     "text": [
      "Tomorrow is working day.\n"
     ]
    }
   ],
   "source": [
    "if eid:\n",
    "    print('Tomorrow is holiday.')\n",
    "else:\n",
    "    print('Tomorrow is working day.')"
   ]
  },
  {
   "cell_type": "markdown",
   "id": "65e09b97-f724-4a06-9cf4-ea978e3fbe99",
   "metadata": {},
   "source": [
    "- ### TASK: Make a program that tell if you're eligible for certificate or not based on pass/fail."
   ]
  },
  {
   "cell_type": "code",
   "execution_count": 22,
   "id": "405783a7-9e41-40b4-9207-448887550a1f",
   "metadata": {},
   "outputs": [],
   "source": [
    "test = False"
   ]
  },
  {
   "cell_type": "code",
   "execution_count": 23,
   "id": "8df03e18-04cc-4a29-8df4-3f1dfe7c5b5d",
   "metadata": {},
   "outputs": [
    {
     "name": "stdout",
     "output_type": "stream",
     "text": [
      "you fail test\n"
     ]
    }
   ],
   "source": [
    "if test:\n",
    "    print(\"you pass test\")\n",
    "else:\n",
    "    print(\"you fail test\")"
   ]
  },
  {
   "cell_type": "markdown",
   "id": "9727f068-bd6d-4a74-9310-a37a01b8df81",
   "metadata": {},
   "source": [
    "### elif"
   ]
  },
  {
   "cell_type": "code",
   "execution_count": 30,
   "id": "81428c15-89b4-4b34-b5ee-15152c5f28a9",
   "metadata": {},
   "outputs": [
    {
     "name": "stdin",
     "output_type": "stream",
     "text": [
      "Enter your makrs: 65\n"
     ]
    },
    {
     "name": "stdout",
     "output_type": "stream",
     "text": [
      "Your Grade is C\n"
     ]
    }
   ],
   "source": [
    "marks = float(input(\"Enter your makrs:\"))\n",
    "\n",
    "if marks >= 90 :\n",
    "    print(\"Your Grade is A+\")\n",
    "elif marks >= 80 :\n",
    "    print(\"Your grade is A\")\n",
    "elif marks >= 70 :\n",
    "    print(\"Your Grade is B\")\n",
    "else :\n",
    "    print(\"Your Grade is C\")"
   ]
  },
  {
   "cell_type": "markdown",
   "id": "972d1979-7c81-4425-9c36-38633fb33302",
   "metadata": {},
   "source": [
    "### nested if-else"
   ]
  },
  {
   "cell_type": "code",
   "execution_count": 55,
   "id": "538f3cfd-6bd5-4958-888a-d3fbdcc07ec7",
   "metadata": {},
   "outputs": [
    {
     "name": "stdin",
     "output_type": "stream",
     "text": [
      "Is the shop open? (yes/no):  true\n"
     ]
    },
    {
     "name": "stdout",
     "output_type": "stream",
     "text": [
      "Shop is open, have to check for rice now\n"
     ]
    },
    {
     "name": "stdin",
     "output_type": "stream",
     "text": [
      "check for rice: true\n"
     ]
    },
    {
     "name": "stdout",
     "output_type": "stream",
     "text": [
      "Buy 1KG\n"
     ]
    }
   ],
   "source": [
    "shop_open = input(\"Is the shop open? (yes/no): \")\n",
    "if shop_open == \"true\":\n",
    "    print(\"Shop is open, have to check for rice now\")\n",
    "    basmatic_rice = input(\"check for rice:\")\n",
    "    if  basmatic_rice == 'true' :\n",
    "      print(\"Buy 1KG\")\n",
    "    else :\n",
    "      print(\"Buy nothing\")\n",
    "else :\n",
    " print(\"Shop is closed\")\n",
    "    "
   ]
  },
  {
   "cell_type": "markdown",
   "id": "d4d0be9d-0205-49dd-bcf2-5864f90613d3",
   "metadata": {},
   "source": [
    "- #### Write a program to check whether a person is eligible for voting or not. (accept age from user) if age is greater than 17 eligible otherwise not eligible"
   ]
  },
  {
   "cell_type": "code",
   "execution_count": 58,
   "id": "b4670176-68f1-4fac-a006-834e4f4e1f77",
   "metadata": {},
   "outputs": [
    {
     "name": "stdin",
     "output_type": "stream",
     "text": [
      "enter you age :  16\n"
     ]
    },
    {
     "name": "stdout",
     "output_type": "stream",
     "text": [
      "not eligible\n"
     ]
    }
   ],
   "source": [
    "age =int(input(\"enter you age : \"))\n",
    "status = 'eligible' if age >= 17 else 'not eligible'\n",
    "print(status)"
   ]
  },
  {
   "cell_type": "markdown",
   "id": "1c44c2d7-d3b3-4915-8971-05b19fcba6be",
   "metadata": {},
   "source": [
    "- ### Write a program to check whether a number entered by user is even or odd."
   ]
  },
  {
   "cell_type": "code",
   "execution_count": 61,
   "id": "b23f3938-70d0-45a3-a506-12d603160fb8",
   "metadata": {},
   "outputs": [
    {
     "name": "stdin",
     "output_type": "stream",
     "text": [
      "enter a number: 4\n"
     ]
    },
    {
     "name": "stdout",
     "output_type": "stream",
     "text": [
      "the given number is even\n"
     ]
    }
   ],
   "source": [
    "num = int(input(\"enter a number:\"))\n",
    "\n",
    "if num %2 == 0:\n",
    "    print(\"the given number is even\")\n",
    "else:\n",
    "    print(\"the given number is odd\")"
   ]
  },
  {
   "cell_type": "markdown",
   "id": "dcff513d-1615-495e-8953-77c9bb784513",
   "metadata": {},
   "source": [
    "- ### Write a program to display \"Hello\" if a number entered by user is a multiple of five , otherwise print \"Bye\"."
   ]
  },
  {
   "cell_type": "code",
   "execution_count": 64,
   "id": "0827d55f-5e4e-479b-bb3d-f95013dd401a",
   "metadata": {},
   "outputs": [
    {
     "name": "stdin",
     "output_type": "stream",
     "text": [
      "Enter a nuber to check:  6\n"
     ]
    },
    {
     "name": "stdout",
     "output_type": "stream",
     "text": [
      "Bye 6\n"
     ]
    }
   ],
   "source": [
    "num = int(input(\"Enter a nuber to check: \"))\n",
    "\n",
    "if num %5 == 0:\n",
    "    print(f\"HEllo {num}\")\n",
    "else:\n",
    "    print(f\"Bye {num}\")"
   ]
  },
  {
   "cell_type": "code",
   "execution_count": null,
   "id": "f9894943-7a9e-4b37-af7f-779a9ab68015",
   "metadata": {},
   "outputs": [],
   "source": []
  }
 ],
 "metadata": {
  "kernelspec": {
   "display_name": "Python 3 (ipykernel)",
   "language": "python",
   "name": "python3"
  },
  "language_info": {
   "codemirror_mode": {
    "name": "ipython",
    "version": 3
   },
   "file_extension": ".py",
   "mimetype": "text/x-python",
   "name": "python",
   "nbconvert_exporter": "python",
   "pygments_lexer": "ipython3",
   "version": "3.13.5"
  }
 },
 "nbformat": 4,
 "nbformat_minor": 5
}
