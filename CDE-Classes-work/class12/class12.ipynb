{
 "cells": [
  {
   "cell_type": "markdown",
   "id": "3e30212a-4c0b-4d7c-85be-8f3d820ffd08",
   "metadata": {},
   "source": [
    "- input>>function>>output\n",
    "- code re-useability\n",
    "- code modularize\n",
    "- ##\n",
    "- #"
   ]
  },
  {
   "cell_type": "code",
   "execution_count": null,
   "id": "936c1d58-dcf3-443a-bbf3-623e902f6aaf",
   "metadata": {},
   "outputs": [],
   "source": [
    "# very basic function part-1(parameter+default params)\n",
    "# it will alwyas  be at the end"
   ]
  },
  {
   "cell_type": "code",
   "execution_count": 9,
   "id": "2f436b21-57b4-4e69-a081-697b1a9fa124",
   "metadata": {},
   "outputs": [],
   "source": [
    "def add_num(num_1,num_2):\n",
    "    sum=num_1+num_2\n",
    "\n",
    "    print(sum)"
   ]
  },
  {
   "cell_type": "code",
   "execution_count": 10,
   "id": "3d870eb4-8963-47e8-baf7-0efe9fe0f5a6",
   "metadata": {},
   "outputs": [
    {
     "name": "stdin",
     "output_type": "stream",
     "text": [
      "enter your first number 5\n",
      "enter your second number 7\n"
     ]
    },
    {
     "name": "stdout",
     "output_type": "stream",
     "text": [
      "12\n"
     ]
    }
   ],
   "source": [
    "num_1=int(input(\"enter your first number\"))\n",
    "num_2=int(input(\"enter your second number\"))\n",
    "\n",
    "add_num(num_1 ,num_2)"
   ]
  },
  {
   "cell_type": "code",
   "execution_count": 6,
   "id": "9c6a6094-5faf-4150-895b-41624d8abe21",
   "metadata": {},
   "outputs": [],
   "source": [
    "def add_num(name,num_1,num_2):\n",
    "    sum=num_1+num_2\n",
    "    con=name\n",
    "    print(f\"{name} your sum is {sum}\")"
   ]
  },
  {
   "cell_type": "code",
   "execution_count": 7,
   "id": "e522c8ca-f8c7-49b4-a54f-367367f5191f",
   "metadata": {},
   "outputs": [
    {
     "name": "stdin",
     "output_type": "stream",
     "text": [
      "enter your name faizy \n",
      "enter your first number 3\n",
      "enter your second number 5\n"
     ]
    },
    {
     "name": "stdout",
     "output_type": "stream",
     "text": [
      "faizy  your sum is 8\n"
     ]
    }
   ],
   "source": [
    "name=input(\"enter your name\")\n",
    "num_1=int(input(\"enter your first number\"))\n",
    "num_2=int(input(\"enter your second number\"))\n",
    "\n",
    "\n",
    "add_num(name,num_1 , num_2)"
   ]
  },
  {
   "cell_type": "code",
   "execution_count": 11,
   "id": "54ff767a-99e4-4699-9193-e7766e320738",
   "metadata": {},
   "outputs": [],
   "source": [
    "def add_num(nam,num1,num2):\n",
    "    sum=num_1+num_2\n",
    "    con=name\n",
    "    print(f\"{name} your sum is {sum}\")"
   ]
  },
  {
   "cell_type": "code",
   "execution_count": 12,
   "id": "4b19efac-5e0f-4ca9-9d4c-9107272b78e2",
   "metadata": {},
   "outputs": [
    {
     "name": "stdin",
     "output_type": "stream",
     "text": [
      "enter your name 5\n",
      "enter your first number 7\n",
      "enter your second number 9\n"
     ]
    },
    {
     "name": "stdout",
     "output_type": "stream",
     "text": [
      "5 your sum is 16\n"
     ]
    }
   ],
   "source": [
    "name=input(\"enter your name\")\n",
    "num_1=int(input(\"enter your first number\"))\n",
    "num_2=int(input(\"enter your second number\"))\n",
    "\n",
    "\n",
    "add_num(nam=name,num1=num_2 , num2=num_2)"
   ]
  },
  {
   "cell_type": "code",
   "execution_count": null,
   "id": "dbb26d57-2fa0-4e0a-a44a-79c1b2533b71",
   "metadata": {},
   "outputs": [],
   "source": [
    "1. taskgive me the sum of the values passesd as unknows args to "
   ]
  },
  {
   "cell_type": "code",
   "execution_count": 62,
   "id": "ab174baf-be09-4a40-8eeb-6c70345cd45e",
   "metadata": {},
   "outputs": [],
   "source": [
    "def add_num(name,*nums):\n",
    "    \n",
    "    \n",
    "        \n",
    "    print(sum(nums))"
   ]
  },
  {
   "cell_type": "code",
   "execution_count": 63,
   "id": "af26f922-cf97-43cb-bfa4-1a43f500701d",
   "metadata": {},
   "outputs": [
    {
     "name": "stdout",
     "output_type": "stream",
     "text": [
      "54\n"
     ]
    }
   ],
   "source": [
    "add_num('Faizy',2,3,4,5,6,7,8,9,10)"
   ]
  },
  {
   "cell_type": "code",
   "execution_count": 89,
   "id": "7bca8f51-79a4-452d-931f-2e67cae83a32",
   "metadata": {},
   "outputs": [],
   "source": [
    "def add_num2(name,**nums):\n",
    "    sum2 = 0\n",
    "    for i in nums.values():\n",
    "         sum2+=i\n",
    "    print(f\"{name} : {sum2}\")"
   ]
  },
  {
   "cell_type": "code",
   "execution_count": 90,
   "id": "dad859a6-c958-4d33-9905-12991bfd8b3a",
   "metadata": {},
   "outputs": [
    {
     "name": "stdout",
     "output_type": "stream",
     "text": [
      "Faizy : 14\n"
     ]
    }
   ],
   "source": [
    "add_num2('Faizy',num_1=2,num_2=3,num_3=4,num_4=5)"
   ]
  },
  {
   "cell_type": "markdown",
   "id": "db943c89-62b3-4103-8281-fc23f3629915",
   "metadata": {},
   "source": [
    "## function in function\n",
    "-factorial4"
   ]
  },
  {
   "cell_type": "code",
   "execution_count": 111,
   "id": "027c6b35-420f-438d-8ad3-70e0b412bf37",
   "metadata": {},
   "outputs": [
    {
     "name": "stdout",
     "output_type": "stream",
     "text": [
      "120\n"
     ]
    }
   ],
   "source": [
    "def factorial (n):\n",
    "    if (n==0 or n==1):\n",
    "        return 1\n",
    "    else:\n",
    "        return n*factorial(n-1)\n",
    "print(factorial(5))"
   ]
  },
  {
   "cell_type": "markdown",
   "id": "fb38e944-ff72-4029-83a5-78e32e1dff41",
   "metadata": {},
   "source": [
    "## whileloop \n",
    "while <condition>\n",
    "    <body\n",
    "    - if needed increment or needed\n",
    "    - user input\n",
    "    >"
   ]
  },
  {
   "cell_type": "code",
   "execution_count": 11,
   "id": "640e1dea-a162-449d-af19-562adf2499a8",
   "metadata": {},
   "outputs": [
    {
     "name": "stdin",
     "output_type": "stream",
     "text": [
      "Enter a number:  5\n"
     ]
    },
    {
     "name": "stdout",
     "output_type": "stream",
     "text": [
      "Factorial of 5 is 120\n"
     ]
    }
   ],
   "source": [
    "n = int(input(\"Enter a number: \"))\n",
    "fact = 1\n",
    "i = 1\n",
    "\n",
    "while i <= n:\n",
    "    fact *= i   # fact = fact * i\n",
    "    i += 1\n",
    "\n",
    "print(\"Factorial of\", n, \"is\", fact)"
   ]
  },
  {
   "cell_type": "code",
   "execution_count": 13,
   "id": "acc58555-eb9b-4281-8f58-3c48b476d967",
   "metadata": {},
   "outputs": [
    {
     "name": "stdout",
     "output_type": "stream",
     "text": [
      "Faizy\n"
     ]
    },
    {
     "name": "stdin",
     "output_type": "stream",
     "text": [
      "Enter input value:  ghufran}\n"
     ]
    },
    {
     "name": "stdout",
     "output_type": "stream",
     "text": [
      "ghufran}\n"
     ]
    },
    {
     "name": "stdin",
     "output_type": "stream",
     "text": [
      "Enter input value:  naushAD\n"
     ]
    },
    {
     "name": "stdout",
     "output_type": "stream",
     "text": [
      "naushAD\n"
     ]
    },
    {
     "name": "stdin",
     "output_type": "stream",
     "text": [
      "Enter input value:  chimkanada]\n"
     ]
    },
    {
     "name": "stdout",
     "output_type": "stream",
     "text": [
      "chimkanada]\n"
     ]
    },
    {
     "name": "stdin",
     "output_type": "stream",
     "text": [
      "Enter input value:  orangi ka chapri\n"
     ]
    },
    {
     "name": "stdout",
     "output_type": "stream",
     "text": [
      "orangi ka chapri\n"
     ]
    },
    {
     "name": "stdin",
     "output_type": "stream",
     "text": [
      "Enter input value:  nuuni ka  dost\n"
     ]
    },
    {
     "name": "stdout",
     "output_type": "stream",
     "text": [
      "nuuni ka  dost\n"
     ]
    },
    {
     "name": "stdin",
     "output_type": "stream",
     "text": [
      "Enter input value:  nunni ka nunna\n"
     ]
    },
    {
     "name": "stdout",
     "output_type": "stream",
     "text": [
      "nunni ka nunna\n"
     ]
    },
    {
     "name": "stdin",
     "output_type": "stream",
     "text": [
      "Enter input value:  quit\n"
     ]
    }
   ],
   "source": [
    "user_input='Faizy'\n",
    "while(user_input!=\"quit\"):\n",
    "    print(user_input)\n",
    "    user_input = input(\"Enter input value: \")"
   ]
  },
  {
   "cell_type": "markdown",
   "id": "80d8a596-52dc-4442-9b3a-0f9de977c336",
   "metadata": {},
   "source": [
    "## class\n",
    "- everything in python belongs to some specific **class**\n",
    "- every class can have its **object**\n",
    "- every clas have its own **methods**\n"
   ]
  },
  {
   "cell_type": "code",
   "execution_count": 14,
   "id": "7451b78c-c219-4908-90b7-5986f826ae98",
   "metadata": {},
   "outputs": [],
   "source": [
    "name=\"Faizy\""
   ]
  },
  {
   "cell_type": "code",
   "execution_count": 15,
   "id": "ee5b11ab-7e5d-4eca-994d-b6c92eaa0ad4",
   "metadata": {},
   "outputs": [
    {
     "name": "stdout",
     "output_type": "stream",
     "text": [
      "<class 'str'>\n"
     ]
    }
   ],
   "source": [
    "print(type(name))"
   ]
  },
  {
   "cell_type": "code",
   "execution_count": 16,
   "id": "a000b1f5-029f-4079-9ff4-1b07a520bf02",
   "metadata": {},
   "outputs": [],
   "source": [
    "lst=[1,2,3,4,5]\n"
   ]
  },
  {
   "cell_type": "code",
   "execution_count": 17,
   "id": "218d0d0e-004d-4f57-a063-660268d20c71",
   "metadata": {},
   "outputs": [
    {
     "name": "stdout",
     "output_type": "stream",
     "text": [
      "<class 'list'>\n"
     ]
    }
   ],
   "source": [
    "print(type(lst))"
   ]
  },
  {
   "cell_type": "code",
   "execution_count": 18,
   "id": "0344f696-027f-45e2-9638-29584498bdba",
   "metadata": {},
   "outputs": [],
   "source": [
    "dic={name:\"faizy\"}"
   ]
  },
  {
   "cell_type": "code",
   "execution_count": 19,
   "id": "f7799a16-3565-4213-a406-a5d7983a474b",
   "metadata": {},
   "outputs": [
    {
     "name": "stdout",
     "output_type": "stream",
     "text": [
      "<class 'dict'>\n"
     ]
    }
   ],
   "source": [
    "print(type(dic))"
   ]
  },
  {
   "cell_type": "markdown",
   "id": "8f7d9c47-cb6f-4254-900d-4c7bd0d294f1",
   "metadata": {},
   "source": [
    "- every class have two things :\n",
    "-  - Characterstics --> Attributes\n",
    "-  - Behaviors/action -->methods\n",
    "-  e.g:\n",
    "-  - Characterstics e.g: color,model,make_year\n",
    "   - Behavior e.g: start,end    "
   ]
  },
  {
   "cell_type": "code",
   "execution_count": 3,
   "id": "fb4b211e-2b31-4120-9dbb-61e244ab9ae4",
   "metadata": {},
   "outputs": [],
   "source": [
    "class cars():\n",
    "    def __init__(self,color,model,make_year): # constructor\n",
    "        self.color = color\n",
    "        self.model = model\n",
    "        self.make_year = make_year\n",
    "\n",
    "    def start(self): # method\n",
    "        print(\"car can start\")\n",
    "\n",
    "    def end(self): # method\n",
    "        print(\"car can stop\")"
   ]
  },
  {
   "cell_type": "code",
   "execution_count": 4,
   "id": "497766b6-5254-436a-b7ac-015da9ab8edd",
   "metadata": {},
   "outputs": [],
   "source": [
    "civic = cars('Black','Honda',2023)"
   ]
  },
  {
   "cell_type": "code",
   "execution_count": 7,
   "id": "2c477239-9dbc-460d-8feb-d66a14defb0f",
   "metadata": {},
   "outputs": [
    {
     "data": {
      "text/plain": [
       "'Honda'"
      ]
     },
     "execution_count": 7,
     "metadata": {},
     "output_type": "execute_result"
    }
   ],
   "source": [
    "civic.model"
   ]
  },
  {
   "cell_type": "code",
   "execution_count": 15,
   "id": "1512e4a6-5501-4017-a2af-8cf9b38e896c",
   "metadata": {},
   "outputs": [],
   "source": [
    "class human():\n",
    "    def __init__(self,gender,religion): # constructor\n",
    "        self.gender = gender\n",
    "        self.religion = religion\n",
    "       \n",
    "\n",
    "    def born(self):\n",
    "         print(\"human is born\")\n",
    "\n",
    "    def die(self):\n",
    "         print(\"humann is die\")\n"
   ]
  },
  {
   "cell_type": "code",
   "execution_count": 17,
   "id": "ad9e4ee1-e8cb-4c25-8019-6c3fcaf4b425",
   "metadata": {},
   "outputs": [],
   "source": [
    "mortal = human('male','muslim')"
   ]
  },
  {
   "cell_type": "code",
   "execution_count": 18,
   "id": "2e3be38d-ba83-4023-8fcf-d9bc1b24871e",
   "metadata": {},
   "outputs": [
    {
     "name": "stdout",
     "output_type": "stream",
     "text": [
      "human is born\n"
     ]
    }
   ],
   "source": [
    "mortal.born()"
   ]
  },
  {
   "cell_type": "code",
   "execution_count": 27,
   "id": "b9055f3b-4933-41de-a1cd-4b5ded810540",
   "metadata": {},
   "outputs": [
    {
     "name": "stdout",
     "output_type": "stream",
     "text": [
      "humann is die\n"
     ]
    }
   ],
   "source": [
    "mortal.die()"
   ]
  },
  {
   "cell_type": "code",
   "execution_count": 29,
   "id": "3f5e83be-60eb-446d-999e-23bef9568326",
   "metadata": {},
   "outputs": [
    {
     "data": {
      "text/plain": [
       "'male'"
      ]
     },
     "execution_count": 29,
     "metadata": {},
     "output_type": "execute_result"
    }
   ],
   "source": [
    "mortal.gender"
   ]
  },
  {
   "cell_type": "code",
   "execution_count": 34,
   "id": "3379a670-3d29-4319-a328-e2a2358bddac",
   "metadata": {},
   "outputs": [],
   "source": [
    "class BankAccount():\n",
    "    def __init__(self,owner,balance): # constructor\n",
    "        self.owner = owner\n",
    "        self.balance = balance\n",
    "       \n",
    "\n",
    "    def deposit(self):\n",
    "         print(\"3487345987\")\n",
    "\n",
    "    def withdraw(self):\n",
    "         print(\"33333409443\")\n"
   ]
  },
  {
   "cell_type": "code",
   "execution_count": 35,
   "id": "ea068f4c-3a7e-40f0-9485-90bd020ff4d9",
   "metadata": {},
   "outputs": [],
   "source": [
    "faizan =BankAccount('faizan',506060060606006600606)"
   ]
  },
  {
   "cell_type": "code",
   "execution_count": 37,
   "id": "3ccfa3c4-a010-425e-b335-e48555b44f3f",
   "metadata": {},
   "outputs": [
    {
     "data": {
      "text/plain": [
       "'faizan'"
      ]
     },
     "execution_count": 37,
     "metadata": {},
     "output_type": "execute_result"
    }
   ],
   "source": [
    "faizan.owner"
   ]
  },
  {
   "cell_type": "code",
   "execution_count": null,
   "id": "63d6f88a-c631-49a4-96d1-f3ec9159f523",
   "metadata": {},
   "outputs": [],
   "source": []
  }
 ],
 "metadata": {
  "kernelspec": {
   "display_name": "Python 3 (ipykernel)",
   "language": "python",
   "name": "python3"
  },
  "language_info": {
   "codemirror_mode": {
    "name": "ipython",
    "version": 3
   },
   "file_extension": ".py",
   "mimetype": "text/x-python",
   "name": "python",
   "nbconvert_exporter": "python",
   "pygments_lexer": "ipython3",
   "version": "3.13.5"
  }
 },
 "nbformat": 4,
 "nbformat_minor": 5
}
