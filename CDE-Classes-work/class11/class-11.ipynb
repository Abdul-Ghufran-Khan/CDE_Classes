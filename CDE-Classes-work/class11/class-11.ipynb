{
 "cells": [
  {
   "cell_type": "code",
   "execution_count": 13,
   "id": "f46c44e1-c464-4bb9-b41b-f486011a56d0",
   "metadata": {},
   "outputs": [],
   "source": [
    "customers = [\n",
    "    {\n",
    "        \"customer_id\": 1,\n",
    "        \"first_name\": \"Faizan\",\n",
    "        \"last_name\": \"Zia\",\n",
    "        \"address\": \"Karachi, Pakistan\"\n",
    "    },\n",
    "    {\n",
    "        \"customer_id\": 2,\n",
    "        \"first_name\": \"Ali\",\n",
    "        \"last_name\": \"Khan\",\n",
    "        \"address\": \"Lahore, Pakistan\"\n",
    "    },\n",
    "    {\n",
    "        \"customer_id\": 3,\n",
    "        \"first_name\": \"Zara\",\n",
    "        \"last_name\": \"Sheikh\",\n",
    "        \"address\": \"Islamabad, Pakistan\"\n",
    "    },\n",
    "    {\n",
    "        \"customer_id\": 4,\n",
    "        \"first_name\": \"Ahmed\",\n",
    "        \"last_name\": \"Raza\",\n",
    "        \"address\": \"Peshawar, Pakistan\"\n",
    "    },\n",
    "    {\n",
    "        \"customer_id\": 5,\n",
    "        \"first_name\": \"Sana\",\n",
    "        \"last_name\": \"Malik\",\n",
    "        \"address\": \"Quetta, Pakistan\"\n",
    "    }\n",
    "]"
   ]
  },
  {
   "cell_type": "code",
   "execution_count": 14,
   "id": "b19e7dff-763a-4095-a011-530330be952d",
   "metadata": {},
   "outputs": [],
   "source": [
    "length = len(customers)"
   ]
  },
  {
   "cell_type": "code",
   "execution_count": 15,
   "id": "8675e97e-bb44-49e3-99de-be15d054eff1",
   "metadata": {},
   "outputs": [
    {
     "name": "stdout",
     "output_type": "stream",
     "text": [
      "5\n"
     ]
    }
   ],
   "source": [
    "print(length)"
   ]
  },
  {
   "cell_type": "code",
   "execution_count": 18,
   "id": "d483e01e-c32d-4568-966e-8dec244d29c7",
   "metadata": {},
   "outputs": [],
   "source": [
    "for i in range(0,length):\n",
    "    customers[i].setdefault(\"age\")"
   ]
  },
  {
   "cell_type": "code",
   "execution_count": 19,
   "id": "047cfa83-fabc-426d-a3ca-e68ef4056000",
   "metadata": {},
   "outputs": [
    {
     "data": {
      "text/plain": [
       "[{'customer_id': 1,\n",
       "  'first_name': 'Faizan',\n",
       "  'last_name': 'Zia',\n",
       "  'address': 'Karachi, Pakistan',\n",
       "  'age': None},\n",
       " {'customer_id': 2,\n",
       "  'first_name': 'Ali',\n",
       "  'last_name': 'Khan',\n",
       "  'address': 'Lahore, Pakistan',\n",
       "  'age': None},\n",
       " {'customer_id': 3,\n",
       "  'first_name': 'Zara',\n",
       "  'last_name': 'Sheikh',\n",
       "  'address': 'Islamabad, Pakistan',\n",
       "  'age': None},\n",
       " {'customer_id': 4,\n",
       "  'first_name': 'Ahmed',\n",
       "  'last_name': 'Raza',\n",
       "  'address': 'Peshawar, Pakistan',\n",
       "  'age': None},\n",
       " {'customer_id': 5,\n",
       "  'first_name': 'Sana',\n",
       "  'last_name': 'Malik',\n",
       "  'address': 'Quetta, Pakistan',\n",
       "  'age': None}]"
      ]
     },
     "execution_count": 19,
     "metadata": {},
     "output_type": "execute_result"
    }
   ],
   "source": [
    "customers"
   ]
  },
  {
   "cell_type": "code",
   "execution_count": 22,
   "id": "e4036dcf-d3d6-4bbf-a250-08294380e50c",
   "metadata": {},
   "outputs": [
    {
     "name": "stdout",
     "output_type": "stream",
     "text": [
      "{1: {'customer_id': 1, 'first_name': 'Faizan', 'last_name': 'Zia', 'address': 'Karachi, Pakistan'}, 2: {'customer_id': 2, 'first_name': 'Ali', 'last_name': 'Khan', 'address': 'Lahore, Pakistan'}, 3: {'customer_id': 3, 'first_name': 'Zara', 'last_name': 'Sheikh', 'address': 'Islamabad, Pakistan'}, 4: {'customer_id': 4, 'first_name': 'Ahmed', 'last_name': 'Raza', 'address': 'Peshawar, Pakistan'}, 5: {'customer_id': 5, 'first_name': 'Sana', 'last_name': 'Malik', 'address': 'Quetta, Pakistan'}}\n"
     ]
    }
   ],
   "source": [
    "customers_dict = {}\n",
    "for c in customers:\n",
    "    customers_dict[c[\"customer_id\"]] = c\n",
    "\n",
    "print(customers_dict)"
   ]
  },
  {
   "cell_type": "code",
   "execution_count": 6,
   "id": "978cc8a5-e588-4748-8d2a-60eb0c0eb5f9",
   "metadata": {},
   "outputs": [
    {
     "name": "stdout",
     "output_type": "stream",
     "text": [
      "[[1, 'Faizan', 'Zia', 'Karachi, Pakistan'], [2, 'Ali', 'Khan', 'Lahore, Pakistan'], [3, 'Zara', 'Sheikh', 'Islamabad, Pakistan'], [4, 'Ahmed', 'Raza', 'Peshawar, Pakistan'], [5, 'Sana', 'Malik', 'Quetta, Pakistan']]\n"
     ]
    }
   ],
   "source": [
    "customers = [\n",
    "    {\n",
    "        \"customer_id\": 1,\n",
    "        \"first_name\": \"Faizan\",\n",
    "        \"last_name\": \"Zia\",\n",
    "        \"address\": \"Karachi, Pakistan\"\n",
    "    },\n",
    "    {\n",
    "        \"customer_id\": 2,\n",
    "        \"first_name\": \"Ali\",\n",
    "        \"last_name\": \"Khan\",\n",
    "        \"address\": \"Lahore, Pakistan\"\n",
    "    },\n",
    "    {\n",
    "        \"customer_id\": 3,\n",
    "        \"first_name\": \"Zara\",\n",
    "        \"last_name\": \"Sheikh\",\n",
    "        \"address\": \"Islamabad, Pakistan\"\n",
    "    },\n",
    "    {\n",
    "        \"customer_id\": 4,\n",
    "        \"first_name\": \"Ahmed\",\n",
    "        \"last_name\": \"Raza\",\n",
    "        \"address\": \"Peshawar, Pakistan\"\n",
    "    },\n",
    "    {\n",
    "        \"customer_id\": 5,\n",
    "        \"first_name\": \"Sana\",\n",
    "        \"last_name\": \"Malik\",\n",
    "        \"address\": \"Quetta, Pakistan\"\n",
    "    }\n",
    "]\n",
    "l_l = []\n",
    "for item in customers:\n",
    "    l_l.append(list(item.values()))\n",
    "\n",
    "print(l_l)"
   ]
  },
  {
   "cell_type": "markdown",
   "id": "54d51410-7ba5-466b-a978-5e8b03a557c6",
   "metadata": {},
   "source": [
    "#** for dictionary perse"
   ]
  },
  {
   "cell_type": "markdown",
   "id": "28bf3527-0979-4fc8-883d-c35a0b7a9548",
   "metadata": {},
   "source": [
    "#* for list perse "
   ]
  },
  {
   "cell_type": "code",
   "execution_count": null,
   "id": "7729b27a-aa27-4680-889c-869096b75ab3",
   "metadata": {},
   "outputs": [],
   "source": []
  },
  {
   "cell_type": "markdown",
   "id": "4485efe7-5039-45f2-bad0-e814bbf34737",
   "metadata": {},
   "source": [
    "task1: using loop add an \"age\" key in all dictionary with default value as none"
   ]
  },
  {
   "cell_type": "code",
   "execution_count": 21,
   "id": "6c2d47ff-ef45-4d83-b6b2-b69d209f8e44",
   "metadata": {},
   "outputs": [],
   "source": [
    "customers = [\n",
    "    {\n",
    "        \"customer_id\": 1,\n",
    "        \"first_name\": \"Faizan\",\n",
    "        \"last_name\": \"Zia\",\n",
    "        \"address\": \"Karachi, Pakistan\"\n",
    "    },\n",
    "    {\n",
    "        \"customer_id\": 2,\n",
    "        \"first_name\": \"Ali\",\n",
    "        \"last_name\": \"Khan\",\n",
    "        \"address\": \"Lahore, Pakistan\"\n",
    "    },\n",
    "    {\n",
    "        \"customer_id\": 3,\n",
    "        \"first_name\": \"Zara\",\n",
    "        \"last_name\": \"Sheikh\",\n",
    "        \"address\": \"Islamabad, Pakistan\"\n",
    "    },\n",
    "    {\n",
    "        \"customer_id\": 4,\n",
    "        \"first_name\": \"Ahmed\",\n",
    "        \"last_name\": \"Raza\",\n",
    "        \"address\": \"Peshawar, Pakistan\"\n",
    "    },\n",
    "    {\n",
    "        \"customer_id\": 5,\n",
    "        \"first_name\": \"Sana\",\n",
    "        \"last_name\": \"Malik\",\n",
    "        \"address\": \"Quetta, Pakistan\"\n",
    "    }\n",
    "]"
   ]
  },
  {
   "cell_type": "code",
   "execution_count": 24,
   "id": "6c5ca0b4-c495-4d38-bed9-ad0032b4a6f8",
   "metadata": {},
   "outputs": [
    {
     "data": {
      "text/plain": [
       "[{'customer_id': 1,\n",
       "  'first_name': 'Faizan',\n",
       "  'last_name': 'Zia',\n",
       "  'address': 'Karachi, Pakistan',\n",
       "  'age': None},\n",
       " {'customer_id': 2,\n",
       "  'first_name': 'Ali',\n",
       "  'last_name': 'Khan',\n",
       "  'address': 'Lahore, Pakistan',\n",
       "  'age': None},\n",
       " {'customer_id': 3,\n",
       "  'first_name': 'Zara',\n",
       "  'last_name': 'Sheikh',\n",
       "  'address': 'Islamabad, Pakistan',\n",
       "  'age': None},\n",
       " {'customer_id': 4,\n",
       "  'first_name': 'Ahmed',\n",
       "  'last_name': 'Raza',\n",
       "  'address': 'Peshawar, Pakistan',\n",
       "  'age': None},\n",
       " {'customer_id': 5,\n",
       "  'first_name': 'Sana',\n",
       "  'last_name': 'Malik',\n",
       "  'address': 'Quetta, Pakistan',\n",
       "  'age': None}]"
      ]
     },
     "execution_count": 24,
     "metadata": {},
     "output_type": "execute_result"
    }
   ],
   "source": [
    "list_of_dictionary_with_age=[]\n",
    "for customer in customers:\n",
    "\n",
    "    customer.setdefault('age')\n",
    "    \n",
    "    list_of_dictionary_with_age.append(customer)\n",
    "list_of_dictionary_with_age"
   ]
  },
  {
   "cell_type": "code",
   "execution_count": null,
   "id": "1bcd831d-6490-4b08-94f1-0d9c9b78dc5e",
   "metadata": {},
   "outputs": [],
   "source": []
  },
  {
   "cell_type": "markdown",
   "id": "913ff0d3-bc65-46a7-8fab-e47894a71af0",
   "metadata": {},
   "source": [
    "# Functiom"
   ]
  },
  {
   "cell_type": "markdown",
   "id": "28920dd5-72f1-49cb-8167-292cbcc12851",
   "metadata": {},
   "source": [
    "BMI=weight/height **2"
   ]
  },
  {
   "cell_type": "markdown",
   "id": "4d0851f6-db87-41f9-86fe-6655e23d3c35",
   "metadata": {},
   "source": [
    "def function _name(<parameter>):\n",
    "    <function_body>\n",
    "    return <bmi>"
   ]
  },
  {
   "cell_type": "code",
   "execution_count": 6,
   "id": "0056df89-181d-4229-9480-6ddb4eadd305",
   "metadata": {},
   "outputs": [],
   "source": [
    "def fn_bmi(weight,height):\n",
    "    bmi = weight/(height**2)\n",
    "    return bmi"
   ]
  },
  {
   "cell_type": "code",
   "execution_count": 8,
   "id": "dac94803-f119-43f8-8447-ba9456aef78d",
   "metadata": {},
   "outputs": [
    {
     "name": "stdin",
     "output_type": "stream",
     "text": [
      "enter value 60\n",
      "enter value 5.6\n"
     ]
    },
    {
     "data": {
      "text/plain": [
       "1.9132653061224492"
      ]
     },
     "execution_count": 8,
     "metadata": {},
     "output_type": "execute_result"
    }
   ],
   "source": [
    "# calling function\n",
    "weight =float(input(\"enter your weight\"))\n",
    "height =float(input(\"enter your height\"))\n",
    "\n",
    "fn_bmi(weight,height)"
   ]
  },
  {
   "cell_type": "code",
   "execution_count": 29,
   "id": "9e8dabeb-b4bc-483c-8162-a19e46b62959",
   "metadata": {},
   "outputs": [],
   "source": [
    "def greet(greeting_line):\n",
    "    print(greeting_line)"
   ]
  },
  {
   "cell_type": "code",
   "execution_count": 30,
   "id": "7aa45dcf-e502-46cd-b07f-60ad69cec48d",
   "metadata": {},
   "outputs": [
    {
     "name": "stdout",
     "output_type": "stream",
     "text": [
      "hello  boys\n"
     ]
    }
   ],
   "source": [
    "greet(\"hello  boys\")"
   ]
  },
  {
   "cell_type": "code",
   "execution_count": 31,
   "id": "d2352417-77f0-49de-bedd-bc258d26d039",
   "metadata": {},
   "outputs": [],
   "source": [
    "def greet(f_name,l_name,place_name='lahore'):\n",
    "    return f\"hi, {f_name} {l_name} Welcome to {place_name}...\""
   ]
  },
  {
   "cell_type": "code",
   "execution_count": 33,
   "id": "d287f17f-1d41-4b96-8ba0-9c0afac679d6",
   "metadata": {},
   "outputs": [
    {
     "data": {
      "text/plain": [
       "'hi, faizy sheikh Welcome to karachi...'"
      ]
     },
     "execution_count": 33,
     "metadata": {},
     "output_type": "execute_result"
    }
   ],
   "source": [
    "greet('faizy','sheikh','karachi')"
   ]
  },
  {
   "cell_type": "code",
   "execution_count": 34,
   "id": "eb9ebb0c-391c-4d13-abe6-2a9332334674",
   "metadata": {},
   "outputs": [
    {
     "ename": "SyntaxError",
     "evalue": "positional argument follows keyword argument (816781697.py, line 1)",
     "output_type": "error",
     "traceback": [
      "\u001b[1;36m  Cell \u001b[1;32mIn[34], line 1\u001b[1;36m\u001b[0m\n\u001b[1;33m    greet(l_name='faizy',f_name='sheikh','karachi')\u001b[0m\n\u001b[1;37m                                                  ^\u001b[0m\n\u001b[1;31mSyntaxError\u001b[0m\u001b[1;31m:\u001b[0m positional argument follows keyword argument\n"
     ]
    }
   ],
   "source": [
    "greet(l_name='faizy',f_name='sheikh','karachi')"
   ]
  },
  {
   "cell_type": "code",
   "execution_count": 36,
   "id": "63703949-97d9-4f70-9122-126a73abe198",
   "metadata": {},
   "outputs": [
    {
     "data": {
      "text/plain": [
       "'hi, sheikh faizy Welcome to karachi...'"
      ]
     },
     "execution_count": 36,
     "metadata": {},
     "output_type": "execute_result"
    }
   ],
   "source": [
    "greet(l_name='faizy',f_name='sheikh',place_name='karachi')"
   ]
  },
  {
   "cell_type": "markdown",
   "id": "57ba5e4e-20a9-4302-a0b3-2beaa322debe",
   "metadata": {},
   "source": [
    "- key word arguements\n",
    "- positional arguements"
   ]
  },
  {
   "cell_type": "code",
   "execution_count": null,
   "id": "21b6b572-9a45-47d9-819c-e0c9bb9fa11a",
   "metadata": {},
   "outputs": [],
   "source": []
  }
 ],
 "metadata": {
  "kernelspec": {
   "display_name": "Python 3 (ipykernel)",
   "language": "python",
   "name": "python3"
  },
  "language_info": {
   "codemirror_mode": {
    "name": "ipython",
    "version": 3
   },
   "file_extension": ".py",
   "mimetype": "text/x-python",
   "name": "python",
   "nbconvert_exporter": "python",
   "pygments_lexer": "ipython3",
   "version": "3.13.5"
  }
 },
 "nbformat": 4,
 "nbformat_minor": 5
}
