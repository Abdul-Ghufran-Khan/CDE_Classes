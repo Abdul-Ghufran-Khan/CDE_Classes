{
 "cells": [
  {
   "cell_type": "code",
   "execution_count": 5,
   "id": "108e244a-6075-446d-8bbf-54a3ea9af859",
   "metadata": {},
   "outputs": [],
   "source": [
    "def calculator ():\n",
    "    num1 = int(input(\"Enter 1st num\"))\n",
    "    num2 = int(input(\"Enter 2nd num\"))\n",
    "    operator = input(\"Select operator + - * /\")\n",
    "\n",
    "    if operator == \"+\":\n",
    "        result = num1 + num2\n",
    "        print(\"result==>\" ,result)\n",
    "    elif operator == \"-\":\n",
    "        result = num1 - num2\n",
    "        print(\"result==>\" ,result)\n",
    "    elif operator == \"*\":\n",
    "        result = num1 * num2\n",
    "        print(\"result==>\" ,result)\n",
    "    elif operator == \"/\":\n",
    "        result = num1 / num2\n",
    "        print(\"result==>\" ,result)\n",
    "    else:\n",
    "        print(\"Invalid operator\")\n",
    "    "
   ]
  },
  {
   "cell_type": "code",
   "execution_count": 8,
   "id": "5536b5b4-38af-4542-a7da-b26c1e373c69",
   "metadata": {},
   "outputs": [
    {
     "name": "stdin",
     "output_type": "stream",
     "text": [
      "Enter 1st num 3\n",
      "Enter 2nd num 4\n",
      "Select operator + - * / =\n"
     ]
    },
    {
     "name": "stdout",
     "output_type": "stream",
     "text": [
      "Invalid operator\n"
     ]
    }
   ],
   "source": [
    "calculator()"
   ]
  },
  {
   "cell_type": "code",
   "execution_count": 16,
   "id": "15141c2a-0e9f-4b3d-ae7d-cb2b19d17f0c",
   "metadata": {},
   "outputs": [],
   "source": [
    "def calculator (num1,num2,operator):\n",
    "  \n",
    "    if operator == \"+\":\n",
    "        result = num1 + num2\n",
    "        print(\"result==>\" ,result)\n",
    "    elif operator == \"-\":\n",
    "        result = num1 - num2\n",
    "        print(\"result==>\" ,result)\n",
    "    elif operator == \"*\":\n",
    "        result = num1 * num2\n",
    "        print(\"result==>\" ,result)\n",
    "    elif operator == \"/\":\n",
    "        result = num1 / num2\n",
    "        print(\"result==>\" ,result)\n",
    "    else:\n",
    "        print(\"Invalid operator\")\n",
    "    "
   ]
  },
  {
   "cell_type": "code",
   "execution_count": 19,
   "id": "2cea09e0-45e6-4349-ad33-8e75de20caff",
   "metadata": {},
   "outputs": [
    {
     "name": "stdout",
     "output_type": "stream",
     "text": [
      "result==> 1\n"
     ]
    }
   ],
   "source": [
    "calculator(5,4,\"-\")"
   ]
  },
  {
   "cell_type": "code",
   "execution_count": 4,
   "id": "8dd9037c-b350-47ea-97bc-8ccab7cc51de",
   "metadata": {},
   "outputs": [],
   "source": [
    "def register():\n",
    "    print(\"Welcome in register function\")\n",
    "    u_name = input(\"Enter Name\")\n",
    "    u_email = input(\"Enter Email\")\n",
    "    u_password = input(\"Enter Password\")\n",
    "    User_list = [u_name , u_email , u_password]\n",
    "    login(User_list)\n",
    "    \n",
    "def login(User_list):\n",
    "    print(\"Welcome in login function\")\n",
    "    u_email1 = input(\"Enter Email\")\n",
    "    u_password1 = input(\"Enter Password\")\n",
    "\n",
    "    if u_email1 == User_list[1] and u_password1 == User_list[2]:\n",
    "        print( User_list[0] ,\"You are login Successfully\")\n",
    "    else:\n",
    "        print(\"Register Yourself\")"
   ]
  },
  {
   "cell_type": "code",
   "execution_count": 5,
   "id": "0a79b3dc-fcf6-4e2c-aa69-ec166060da2b",
   "metadata": {},
   "outputs": [
    {
     "name": "stdout",
     "output_type": "stream",
     "text": [
      "Welcome in register function\n"
     ]
    },
    {
     "name": "stdin",
     "output_type": "stream",
     "text": [
      "Enter Name ag\n",
      "Enter Email ag@\n",
      "Enter Password qwerty\n"
     ]
    },
    {
     "name": "stdout",
     "output_type": "stream",
     "text": [
      "Welcome in login function\n"
     ]
    },
    {
     "name": "stdin",
     "output_type": "stream",
     "text": [
      "Enter Email ag@\n",
      "Enter Password qwerty\n"
     ]
    },
    {
     "name": "stdout",
     "output_type": "stream",
     "text": [
      "ag You are login Successfully\n"
     ]
    }
   ],
   "source": [
    "register()"
   ]
  },
  {
   "cell_type": "code",
   "execution_count": 20,
   "id": "4b8606c1-71aa-4767-a5c2-33108da9a14a",
   "metadata": {},
   "outputs": [],
   "source": [
    "users = {\n",
    "    \"user1\": {\n",
    "        \"email\": \"faizan@example.com\",\n",
    "        \"password\": \"faizan123\"\n",
    "    },\n",
    "    \"user2\": {\n",
    "        \"email\": \"ali@example.com\",\n",
    "        \"password\": \"ali456\"\n",
    "    },\n",
    "    \"user3\": {\n",
    "        \"email\": \"zara@example.com\",\n",
    "        \"password\": \"zara789\"\n",
    "    }\n",
    "}\n",
    "\n",
    "def check(users):\n",
    "    u_email = input(\"Enter email: \")\n",
    "    u_pass = input(\"Enter password: \")\n",
    "    for user in users.values():\n",
    "        if user[\"email\"] == u_email and user[\"password\"] == u_pass:\n",
    "            print(\" Login successful!\")\n",
    "            return\n",
    "    print(\" Invalid email or password!\")\n"
   ]
  },
  {
   "cell_type": "code",
   "execution_count": 21,
   "id": "f1276c91-d2c5-4cb0-af72-6b040610142a",
   "metadata": {},
   "outputs": [
    {
     "name": "stdin",
     "output_type": "stream",
     "text": [
      "Enter email:  zara@example.com\n",
      "Enter password:  zara789\n"
     ]
    },
    {
     "name": "stdout",
     "output_type": "stream",
     "text": [
      " Login successful!\n"
     ]
    }
   ],
   "source": [
    "check(users)"
   ]
  },
  {
   "cell_type": "code",
   "execution_count": null,
   "id": "d59f699e-b741-4036-8ae4-fd4996164dfa",
   "metadata": {},
   "outputs": [],
   "source": []
  }
 ],
 "metadata": {
  "kernelspec": {
   "display_name": "Python 3 (ipykernel)",
   "language": "python",
   "name": "python3"
  },
  "language_info": {
   "codemirror_mode": {
    "name": "ipython",
    "version": 3
   },
   "file_extension": ".py",
   "mimetype": "text/x-python",
   "name": "python",
   "nbconvert_exporter": "python",
   "pygments_lexer": "ipython3",
   "version": "3.13.5"
  }
 },
 "nbformat": 4,
 "nbformat_minor": 5
}
