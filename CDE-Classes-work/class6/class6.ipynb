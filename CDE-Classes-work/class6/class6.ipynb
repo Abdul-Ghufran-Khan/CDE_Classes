{
 "cells": [
  {
   "cell_type": "markdown",
   "id": "48714c9a-0ff3-4fd5-a41b-95e1ae0220b3",
   "metadata": {},
   "source": [
    "#\tSat, Aug 16, 2025"
   ]
  },
  {
   "cell_type": "code",
   "execution_count": null,
   "id": "90b1f24a-0ddd-49b9-852d-4e65dca0f8de",
   "metadata": {},
   "outputs": [],
   "source": []
  }
 ],
 "metadata": {
  "kernelspec": {
   "display_name": "Python 3 (ipykernel)",
   "language": "python",
   "name": "python3"
  },
  "language_info": {
   "codemirror_mode": {
    "name": "ipython",
    "version": 3
   },
   "file_extension": ".py",
   "mimetype": "text/x-python",
   "name": "python",
   "nbconvert_exporter": "python",
   "pygments_lexer": "ipython3",
   "version": "3.13.5"
  }
 },
 "nbformat": 4,
 "nbformat_minor": 5
}
