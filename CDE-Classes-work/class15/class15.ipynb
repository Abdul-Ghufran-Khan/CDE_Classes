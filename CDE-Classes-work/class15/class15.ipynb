{
 "cells": [
  {
   "cell_type": "markdown",
   "id": "e99204c2-dedf-457b-9e62-84626f70afc0",
   "metadata": {},
   "source": [
    "# OBJECT ORIENTED PROGRAMMING (OOP)"
   ]
  },
  {
   "cell_type": "markdown",
   "id": "cde358f5-ede5-4c46-87ed-47c5afcadb34",
   "metadata": {},
   "source": [
    "\n",
    "## Types of Inheritence\n",
    "\n",
    "![Slide Image](https://th.bing.com/th/id/R.0d747f33a6cd1dd2f3e631106c40731a?rik=YtwSaVqy2PiKcg&riu=http%3a%2f%2fslidetodoc.com%2fpresentation_image_h2%2fbefe473e43b5374ad7cf76299ea91ba0%2fimage-10.jpg&ehk=Ftq0Qn6nkcX6TJMv%2fofY0txELmqDk0s3aJ8ytm2CDjo%3d&risl=&pid=ImgRaw&r=0)\n",
    "\n"
   ]
  },
  {
   "cell_type": "code",
   "execution_count": null,
   "id": "6047921a-0476-4694-b2d6-98f7e7bfb4fc",
   "metadata": {},
   "outputs": [],
   "source": [
    "class shape():\n",
    "\n",
    "    #abstraction method\n",
    "    def sides(self):\n",
    "        pass"
   ]
  },
  {
   "cell_type": "code",
   "execution_count": null,
   "id": "2c361763-8114-4c1a-8b83-5f0e78085233",
   "metadata": {},
   "outputs": [],
   "source": [
    "class square(shape):\n",
    "\n",
    "    #functioanality here \n",
    "    def sides(self):\n",
    "        print(\"square has two sides\")"
   ]
  },
  {
   "cell_type": "code",
   "execution_count": null,
   "id": "82a88cc7-44df-4c45-ab91-84cfda446354",
   "metadata": {},
   "outputs": [],
   "source": [
    "squ_obj = square()\n",
    "squ_obj.sides()"
   ]
  },
  {
   "cell_type": "code",
   "execution_count": null,
   "id": "310a64af-5540-4448-8244-a39378a6d775",
   "metadata": {},
   "outputs": [],
   "source": [
    "class circle(shape):\n",
    "\n",
    "    #functioanality here \n",
    "    def sides(self):\n",
    "        print(\"square has no sides\")"
   ]
  },
  {
   "cell_type": "code",
   "execution_count": null,
   "id": "1ad6e62a-4240-41da-81db-750c995beb4e",
   "metadata": {},
   "outputs": [],
   "source": [
    "cir_obj = circle()\n",
    "cir_obj.sides()"
   ]
  },
  {
   "cell_type": "markdown",
   "id": "fac95eb9-ca4b-477a-a30a-d6c97baa66d8",
   "metadata": {},
   "source": [
    "## polymorphism"
   ]
  },
  {
   "cell_type": "code",
   "execution_count": null,
   "id": "9468f09f-ae89-4109-9e3d-32eafa212b09",
   "metadata": {},
   "outputs": [],
   "source": [
    "class Animal:\n",
    "    def speak(self):\n",
    "        return \"Animal speaks\"\n",
    "\n",
    "class Dog(Animal):\n",
    "    def speak(self):\n",
    "        return \"woof\"\n",
    "class Cat(Animal):\n",
    "    def speak(self):\n",
    "        return \"Meow\"\n",
    "\n",
    "#create instances\n",
    "dog = Dog()\n",
    "cat = Cat()\n",
    "\n",
    "# call the  speak method on differentr object\n",
    "print(dog.speak()) #output:woof!\n",
    "print(cat.speak()) # poutput :Meow!"
   ]
  },
  {
   "cell_type": "markdown",
   "id": "ca585489-c57b-4c69-9a8d-17e9ec2e6ae3",
   "metadata": {},
   "source": [
    "## encapsulation"
   ]
  },
  {
   "cell_type": "code",
   "execution_count": 46,
   "id": "c38586c9-a17d-4550-856a-7be92acf574a",
   "metadata": {},
   "outputs": [],
   "source": [
    "class saylani():\n",
    "    def __init__(self):\n",
    "        self.helpline = \"786\" #public\n",
    "        self._batch =  \"python\" #protected\n",
    "        self.__result = \"70%\" #private"
   ]
  },
  {
   "cell_type": "code",
   "execution_count": 47,
   "id": "002eb404-aa6c-404e-8f21-9139efc7a7a2",
   "metadata": {},
   "outputs": [],
   "source": [
    "sa_obj = saylani()"
   ]
  },
  {
   "cell_type": "code",
   "execution_count": 48,
   "id": "30764fb1-f4cf-4952-8afd-95376b6c8160",
   "metadata": {},
   "outputs": [
    {
     "data": {
      "text/plain": [
       "'786'"
      ]
     },
     "execution_count": 48,
     "metadata": {},
     "output_type": "execute_result"
    }
   ],
   "source": [
    "sa_obj.helpline"
   ]
  },
  {
   "cell_type": "code",
   "execution_count": 49,
   "id": "d8c88c0a-ff1f-45e0-a382-96add0121b31",
   "metadata": {},
   "outputs": [
    {
     "data": {
      "text/plain": [
       "'python'"
      ]
     },
     "execution_count": 49,
     "metadata": {},
     "output_type": "execute_result"
    }
   ],
   "source": [
    "sa_obj._batch"
   ]
  },
  {
   "cell_type": "code",
   "execution_count": 50,
   "id": "9ea25c54-df60-4a73-ad05-72744455f198",
   "metadata": {},
   "outputs": [
    {
     "data": {
      "text/plain": [
       "'70%'"
      ]
     },
     "execution_count": 50,
     "metadata": {},
     "output_type": "execute_result"
    }
   ],
   "source": [
    "sa_obj._saylani__result"
   ]
  },
  {
   "cell_type": "code",
   "execution_count": 51,
   "id": "26761ec8-d173-46a5-a2b5-40127fa9b069",
   "metadata": {},
   "outputs": [],
   "source": [
    "class Uni_Card():\n",
    "    def __init__(self):\n",
    "        pass\n",
    "\n",
    "    def name(self):\n",
    "        return \"naush\"\n",
    "    def _seatno(self):\n",
    "        return \"3757374\"\n",
    "    def __NIC(self):\n",
    "        return \"4562748382825\""
   ]
  },
  {
   "cell_type": "code",
   "execution_count": 52,
   "id": "4921e0f7-96cc-4526-9956-2061c7b280e4",
   "metadata": {},
   "outputs": [],
   "source": [
    "Card_obj = Uni_Card()"
   ]
  },
  {
   "cell_type": "code",
   "execution_count": 53,
   "id": "68d6b81a-d49a-4a2c-84e8-058d7aa721bc",
   "metadata": {},
   "outputs": [
    {
     "data": {
      "text/plain": [
       "'naush'"
      ]
     },
     "execution_count": 53,
     "metadata": {},
     "output_type": "execute_result"
    }
   ],
   "source": [
    "Card_obj.name()"
   ]
  },
  {
   "cell_type": "code",
   "execution_count": 54,
   "id": "963c2948-0f55-41bc-837c-d0490425d063",
   "metadata": {},
   "outputs": [
    {
     "data": {
      "text/plain": [
       "'3757374'"
      ]
     },
     "execution_count": 54,
     "metadata": {},
     "output_type": "execute_result"
    }
   ],
   "source": [
    "Card_obj._seatno()"
   ]
  },
  {
   "cell_type": "code",
   "execution_count": 55,
   "id": "4751f52a-bf7d-480c-b21e-cdfad68f5e68",
   "metadata": {},
   "outputs": [
    {
     "data": {
      "text/plain": [
       "'4562748382825'"
      ]
     },
     "execution_count": 55,
     "metadata": {},
     "output_type": "execute_result"
    }
   ],
   "source": [
    "Card_obj._Uni_Card__NIC()\n",
    "\n",
    "\n"
   ]
  },
  {
   "cell_type": "markdown",
   "id": "71ba9b88-3c4a-4678-b1ab-ed8e239609c3",
   "metadata": {},
   "source": [
    "TASK:\n",
    "\n",
    "use encapsulation for class i:e., StudentLogin():\n",
    "initialize two static but private attributes i:e., __user_name, __password\n",
    "create one private methods i:e., name __dbconectivity() that will validate you username & password. if both are valid then should print \"valid user\" otherwise \"not valid\"\n",
    "create one public methods i:e., update password & it should update your private password"
   ]
  },
  {
   "cell_type": "code",
   "execution_count": 59,
   "id": "2af5e634-eb81-4c66-acee-abb426311a17",
   "metadata": {},
   "outputs": [
    {
     "name": "stdout",
     "output_type": "stream",
     "text": [
      "Valid user, welcome to new page\n",
      "Not valid\n",
      "Password updated successfully\n",
      "Valid user, welcome to new page\n"
     ]
    }
   ],
   "source": [
    "    class StudentLogin:\n",
    "    \n",
    "        def __init__(self):\n",
    "            self.__user_name = \"faizan\"\n",
    "            self.__password = \"1234\"\n",
    "    \n",
    "        def __dbconnectivity(self,username, password):\n",
    "            if username == self.__user_name and password == self.__password:\n",
    "                print(\"Valid user, welcome to new page\")\n",
    "                # return True\n",
    "            else:\n",
    "                print(\"Not valid\")\n",
    "                # return False\n",
    "                \n",
    "        def login(self,username, password):\n",
    "            return self.__dbconnectivity(username, password)\n",
    "\n",
    "        def update_password(self,old_pass, new_pass):\n",
    "            if old_pass == self.__password:\n",
    "                self.__password = new_pass\n",
    "                print(\"Password updated successfully\")\n",
    "            else:\n",
    "                print(\"Old password is incorrect\")\n",
    "\n",
    "\n",
    "obj = StudentLogin()\n",
    "obj.login(\"faizan\", \"1234\")    # Valid user\n",
    "obj.login(\"ali\", \"0000\")       # Not valid\n",
    "\n",
    "obj.update_password(\"1234\", \"9999\")  # update password\n",
    "obj.login(\"faizan\", \"9999\")    # Valid user after update\n",
    "\n",
    "        \n",
    "        "
   ]
  },
  {
   "cell_type": "markdown",
   "id": "8b34457c-cf11-4847-8b20-c654e4d5e984",
   "metadata": {},
   "source": [
    "## Data Files"
   ]
  },
  {
   "cell_type": "markdown",
   "id": "f41f1d5f-342d-4b88-80f3-4cea19575d13",
   "metadata": {},
   "source": [
    "- read --> 'r'\n",
    "- write --> 'w'\n",
    "- append --> 'a'\n",
    "- read/write --> 'rw'"
   ]
  },
  {
   "cell_type": "code",
   "execution_count": 79,
   "id": "7fa2caed-9f8d-422d-8c02-52e726a2504a",
   "metadata": {},
   "outputs": [],
   "source": [
    "f = open('file.txt','w')\n",
    "f.write(\"this is content of my file\")\n",
    "f.close()"
   ]
  },
  {
   "cell_type": "code",
   "execution_count": 80,
   "id": "48a8d180-5a7f-4b9a-9e73-9b0c5d6d72f5",
   "metadata": {},
   "outputs": [],
   "source": [
    "with open('file2.txt','w') as f:\n",
    "    f.write(\"file wil close automatically and \\n\")\n"
   ]
  },
  {
   "cell_type": "code",
   "execution_count": 84,
   "id": "d229b1b6-ffbd-43cf-9ebc-81bc71b6ddb7",
   "metadata": {},
   "outputs": [],
   "source": [
    "with open('file2.txt','a') as f:\n",
    "    f.write(\"\\n file will get append on necxt line.\")"
   ]
  },
  {
   "cell_type": "code",
   "execution_count": 83,
   "id": "cc2ef54e-2509-4204-a05d-98836d36667f",
   "metadata": {},
   "outputs": [],
   "source": [
    "with open(\"file2.txt\", \"a\") as f:\n",
    "    f.write(\"\"\"\n",
    "file will get append on next line.\"\"\")"
   ]
  },
  {
   "cell_type": "code",
   "execution_count": null,
   "id": "fc987e85-7fb7-40ea-ace1-cb090c799753",
   "metadata": {},
   "outputs": [],
   "source": []
  },
  {
   "cell_type": "code",
   "execution_count": 85,
   "id": "d2b0afde-c2ef-4b5e-8462-28e3974cb535",
   "metadata": {},
   "outputs": [],
   "source": [
    "with open('file2.txt','w') as f:\n",
    "    f.write(\"file wil close automatically and \")"
   ]
  },
  {
   "cell_type": "code",
   "execution_count": 91,
   "id": "a96f1a3b-6cc4-4a81-ae1e-c2ac361b6fd1",
   "metadata": {},
   "outputs": [
    {
     "name": "stdout",
     "output_type": "stream",
     "text": [
      "file wil close automatically and \n",
      "\n"
     ]
    }
   ],
   "source": [
    "with open('file2.txt','r') as f:\n",
    "    file_read=f.read()\n",
    "    print(file_read)"
   ]
  },
  {
   "cell_type": "code",
   "execution_count": 92,
   "id": "fdbb12b2-3d4f-4a55-864a-9212d2b4336a",
   "metadata": {},
   "outputs": [
    {
     "name": "stdout",
     "output_type": "stream",
     "text": [
      "File content after writing:\n",
      " This is written using w+ mode.\n",
      "Second line also written.\n",
      "\n"
     ]
    }
   ],
   "source": [
    "# w+ mode: write + read\n",
    "with open(\"file2.txt\", \"w+\") as f:\n",
    "    f.write(\"This is written using w+ mode.\\n\")\n",
    "    f.write(\"Second line also written.\\n\")\n",
    "\n",
    "    # pointer ab end me hai, isliye read karne ke liye rewind karna hoga\n",
    "    f.seek(0)  # file pointer ko start me le gaye\n",
    "    content = f.read()\n",
    "    print(\"File content after writing:\\n\", content)\n"
   ]
  },
  {
   "cell_type": "markdown",
   "id": "530fe3f2-5fdd-4404-8847-cfabde3ef657",
   "metadata": {},
   "source": [
    "## Modules"
   ]
  },
  {
   "cell_type": "code",
   "execution_count": null,
   "id": "a6215e43-0f71-4d98-8a80-e5fb6dab161a",
   "metadata": {},
   "outputs": [],
   "source": []
  }
 ],
 "metadata": {
  "kernelspec": {
   "display_name": "Python 3 (ipykernel)",
   "language": "python",
   "name": "python3"
  },
  "language_info": {
   "codemirror_mode": {
    "name": "ipython",
    "version": 3
   },
   "file_extension": ".py",
   "mimetype": "text/x-python",
   "name": "python",
   "nbconvert_exporter": "python",
   "pygments_lexer": "ipython3",
   "version": "3.13.5"
  }
 },
 "nbformat": 4,
 "nbformat_minor": 5
}
