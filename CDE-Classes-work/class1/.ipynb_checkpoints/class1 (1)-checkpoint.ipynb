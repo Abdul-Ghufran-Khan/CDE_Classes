
{
 "cells": [
  {
   "cell_type": "markdown",
   "metadata": {},
   "source": [
    "# Sun, Jul 27, 2025"
   ]
  },
  {
   "cell_type": "markdown",
   "id": "102ad5c8-6ad0-4355-b00a-3931d7a16a1e",
   "metadata": {},
   "source": [
    " ### print function"
   ]
  },
  {
   "cell_type": "code",
   "execution_count": 41,
   "id": "d2914aee-d5eb-49e8-9822-89476951f7c7",
   "metadata": {},
   "outputs": [
    {
     "name": "stdout",
     "output_type": "stream",
     "text": [
      "Hello Batch-03\n"
     ]
    }
   ],
   "source": [
    "print('Hello Batch-03')"
   ]
  },
  {
   "cell_type": "code",
   "execution_count": 42,
   "id": "42fe73c9-3c17-4297-9b62-8d13ac1b1393",
   "metadata": {},
   "outputs": [
    {
     "name": "stdout",
     "output_type": "stream",
     "text": [
      "HEllo\n"
     ]
    }
   ],
   "source": [
    "print(\"HEllo\")"
   ]
  },
  {
   "cell_type": "code",
   "execution_count": 43,
   "id": "42d27ab1-76ba-40da-8365-d208d04a4ca4",
   "metadata": {},
   "outputs": [
    {
     "name": "stdout",
     "output_type": "stream",
     "text": [
      "Hello Batch-o3\n",
      "it's  our first class of cde\n",
      "\n"
     ]
    }
   ],
   "source": [
    "print(\"\"\"Hello Batch-o3\n",
    "it's  our first class of cde\n",
    "\"\"\")"
   ]
  },
  {
   "cell_type": "markdown",
   "id": "2a2af477-4bd8-43e8-8c99-cc51b1a18724",
   "metadata": {},
   "source": [
    "### Veriables for string"
   ]
  },
  {
   "cell_type": "code",
   "execution_count": 44,
   "id": "1c6c7121-6043-42e5-a3af-5520127f685f",
   "metadata": {},
   "outputs": [
    {
     "name": "stdout",
     "output_type": "stream",
     "text": [
      "Muhammad Faizan\n"
     ]
    }
   ],
   "source": [
    "first_name = 'Muhammad'\n",
    "last_name ='Faizan' \n",
    "print(first_name +\" \" + last_name)"
   ]
  },
  {
   "cell_type": "code",
   "execution_count": 45,
   "id": "c1a9b49b-4e4f-4c98-bb2b-e62e68b01f94",
   "metadata": {},
   "outputs": [
    {
     "data": {
      "text/plain": [
       "str"
      ]
     },
     "execution_count": 45,
     "metadata": {},
     "output_type": "execute_result"
    }
   ],
   "source": [
    "type(first_name)"
   ]
  },
  {
   "cell_type": "markdown",
   "id": "2bf750e9-0e9c-4eb8-af56-bd4e92610851",
   "metadata": {},
   "source": [
    "### Veriables for Numbers"
   ]
  },
  {
   "cell_type": "code",
   "execution_count": 46,
   "id": "28413adb-5d00-4aa5-ba32-05a993a24173",
   "metadata": {},
   "outputs": [],
   "source": [
    "age = 30"
   ]
  },
  {
   "cell_type": "code",
   "execution_count": 47,
   "id": "4d887f7a-b1d1-4658-b1f6-4401c0aa76bc",
   "metadata": {},
   "outputs": [
    {
     "data": {
      "text/plain": [
       "30"
      ]
     },
     "execution_count": 47,
     "metadata": {},
     "output_type": "execute_result"
    }
   ],
   "source": [
    "age"
   ]
  },
  {
   "cell_type": "code",
   "execution_count": 48,
   "id": "bf93ea5d-6a3a-47a3-85f2-2e1c982db250",
   "metadata": {},
   "outputs": [
    {
     "data": {
      "text/plain": [
       "int"
      ]
     },
     "execution_count": 48,
     "metadata": {},
     "output_type": "execute_result"
    }
   ],
   "source": [
    "type(age)"
   ]
  },
  {
   "cell_type": "code",
   "execution_count": 49,
   "id": "c3e21f47-769d-4665-87c1-86bd9ef5b658",
   "metadata": {},
   "outputs": [],
   "source": [
    "age1 = '30'"
   ]
  },
  {
   "cell_type": "code",
   "execution_count": 50,
   "id": "66390500-662d-4423-ad84-167eb41d46e4",
   "metadata": {},
   "outputs": [
    {
     "data": {
      "text/plain": [
       "'30'"
      ]
     },
     "execution_count": 50,
     "metadata": {},
     "output_type": "execute_result"
    }
   ],
   "source": [
    "age1"
   ]
  },
  {
   "cell_type": "code",
   "execution_count": 51,
   "id": "d9aefce1-e6bf-4db5-8003-951909f8ad3d",
   "metadata": {},
   "outputs": [
    {
     "data": {
      "text/plain": [
       "str"
      ]
     },
     "execution_count": 51,
     "metadata": {},
     "output_type": "execute_result"
    }
   ],
   "source": [
    "type(age1)"
   ]
  },
  {
   "cell_type": "code",
   "execution_count": 52,
   "id": "417131d7-e0af-435a-8890-3d35da05a6e2",
   "metadata": {},
   "outputs": [
    {
     "ename": "TypeError",
     "evalue": "unsupported operand type(s) for +: 'int' and 'str'",
     "output_type": "error",
     "traceback": [
      "\u001b[1;31m---------------------------------------------------------------------------\u001b[0m",
      "\u001b[1;31mTypeError\u001b[0m                                 Traceback (most recent call last)",
      "Cell \u001b[1;32mIn[52], line 1\u001b[0m\n\u001b[1;32m----> 1\u001b[0m age \u001b[38;5;241m+\u001b[39m age1\n",
      "\u001b[1;31mTypeError\u001b[0m: unsupported operand type(s) for +: 'int' and 'str'"
     ]
    }
   ],
   "source": [
    "age + age1"
   ]
  },
  {
   "cell_type": "code",
   "execution_count": 53,
   "id": "4f9229c1-5e2c-4617-a245-cebd3b2244fe",
   "metadata": {},
   "outputs": [
    {
     "data": {
      "text/plain": [
       "70"
      ]
     },
     "execution_count": 53,
     "metadata": {},
     "output_type": "execute_result"
    }
   ],
   "source": [
    "age2 = 40 \n",
    "age + age2"
   ]
  },
  {
   "cell_type": "markdown",
   "id": "aff73c92-d2a2-4790-b535-1fb8a28a43c9",
   "metadata": {},
   "source": [
    "### Math expressions: Familiar operators"
   ]
  },
  {
   "cell_type": "code",
   "execution_count": 54,
   "id": "39b60188-2fef-49d8-a67f-4e274de7a361",
   "metadata": {},
   "outputs": [
    {
     "data": {
      "text/plain": [
       "6"
      ]
     },
     "execution_count": 54,
     "metadata": {},
     "output_type": "execute_result"
    }
   ],
   "source": [
    "2 + 4"
   ]
  },
  {
   "cell_type": "code",
   "execution_count": 55,
   "id": "756b71ef-f011-4c92-adf8-32755b4579d1",
   "metadata": {},
   "outputs": [
    {
     "data": {
      "text/plain": [
       "3"
      ]
     },
     "execution_count": 55,
     "metadata": {},
     "output_type": "execute_result"
    }
   ],
   "source": [
    "5 - 2"
   ]
  },
  {
   "cell_type": "code",
   "execution_count": 56,
   "id": "38385d61-3bb9-4d24-894b-5baad18125f9",
   "metadata": {},
   "outputs": [
    {
     "name": "stdout",
     "output_type": "stream",
     "text": [
      "string:  Faizan\n",
      "Integer:  22\n",
      "<class 'float'>\n",
      "float:  58.5\n"
     ]
    }
   ],
   "source": [
    "# str -> string --> \"Umair\"\n",
    "name = \"Faizan\"\n",
    "print(\"string: \", name)\n",
    "# int -> integer --> 30\n",
    "age = 22\n",
    "print(\"Integer: \", age)\n",
    "# float --> 33.6\n",
    "weigth = 58.5\n",
    "print(type(weigth))\n",
    "print(\"float: \", weigth)\n"
   ]
  },
  {
   "cell_type": "code",
   "execution_count": 57,
   "id": "6d82e31a-964e-4d28-aeec-8f5dbc22605c",
   "metadata": {},
   "outputs": [
    {
     "ename": "SyntaxError",
     "evalue": "invalid syntax (830850064.py, line 1)",
     "output_type": "error",
     "traceback": [
      "\u001b[1;36m  Cell \u001b[1;32mIn[57], line 1\u001b[1;36m\u001b[0m\n\u001b[1;33m    assert = 'Faizan'\u001b[0m\n\u001b[1;37m           ^\u001b[0m\n\u001b[1;31mSyntaxError\u001b[0m\u001b[1;31m:\u001b[0m invalid syntax\n"
     ]
    }
   ],
   "source": [
    "assert = 'Faizan'\n",
    "print(assert)"
   ]
  },
  {
   "cell_type": "code",
   "execution_count": 58,
   "id": "bc47f86b-2e4e-46e3-886f-daf1ea465d39",
   "metadata": {},
   "outputs": [
    {
     "name": "stdout",
     "output_type": "stream",
     "text": [
      "my Father\"s name is Zia-ud-din\n"
     ]
    }
   ],
   "source": [
    "print('my Father\"s name is Zia-ud-din')"
   ]
  },
  {
   "cell_type": "code",
   "execution_count": 59,
   "id": "14bb3ad5-c278-47a4-84c2-cdf6fdac4223",
   "metadata": {},
   "outputs": [
    {
     "name": "stdout",
     "output_type": "stream",
     "text": [
      "my Father's name is Zia-ud-din\n"
     ]
    }
   ],
   "source": [
    "print(\"my Father's name is Zia-ud-din\")"
   ]
  },
  {
   "cell_type": "code",
   "execution_count": 60,
   "id": "10e5832d-fa1b-4367-9d84-87418cf16cec",
   "metadata": {},
   "outputs": [
    {
     "name": "stdout",
     "output_type": "stream",
     "text": [
      "my Father's name is Zia-ud-din\n"
     ]
    }
   ],
   "source": [
    "print('my Father\\'s name is Zia-ud-din')"
   ]
  },
  {
   "cell_type": "code",
   "execution_count": 61,
   "id": "32b65050-c33d-4eb5-88af-e24b5a7ff135",
   "metadata": {},
   "outputs": [
    {
     "data": {
      "text/plain": [
       "8"
      ]
     },
     "execution_count": 61,
     "metadata": {},
     "output_type": "execute_result"
    }
   ],
   "source": [
    "2**3"
   ]
  },
  {
   "cell_type": "code",
   "execution_count": 62,
   "id": "72a6b168-a73a-4bcf-8505-2a9f472cf5ec",
   "metadata": {},
   "outputs": [
    {
     "data": {
      "text/plain": [
       "2.0"
      ]
     },
     "execution_count": 62,
     "metadata": {},
     "output_type": "execute_result"
    }
   ],
   "source": [
    "4/2"
   ]
  },
  {
   "cell_type": "code",
   "execution_count": 63,
   "id": "888723eb-f474-4216-9650-26fadc1a96c8",
   "metadata": {},
   "outputs": [
    {
     "data": {
      "text/plain": [
       "2"
      ]
     },
     "execution_count": 63,
     "metadata": {},
     "output_type": "execute_result"
    }
   ],
   "source": [
    "4//2"
   ]
  },
  {
   "cell_type": "code",
   "execution_count": 64,
   "id": "c9777d3f-1c16-4d06-b502-400da8159b64",
   "metadata": {},
   "outputs": [],
   "source": [
    "x = 20\n",
    "y=4"
   ]
  },
  {
   "cell_type": "code",
   "execution_count": 65,
   "id": "d5781dc5-99b5-4565-8444-15f94e1251c3",
   "metadata": {},
   "outputs": [
    {
     "name": "stdout",
     "output_type": "stream",
     "text": [
      "True\n"
     ]
    }
   ],
   "source": [
    "print( x > y)"
   ]
  },
  {
   "cell_type": "code",
   "execution_count": 66,
   "id": "75869372-28de-4f78-894e-61247f185c55",
   "metadata": {},
   "outputs": [
    {
     "data": {
      "text/plain": [
       "20"
      ]
     },
     "execution_count": 66,
     "metadata": {},
     "output_type": "execute_result"
    }
   ],
   "source": [
    "x"
   ]
  },
  {
   "cell_type": "code",
   "execution_count": 67,
   "id": "1a9f4a56-dab9-4075-8ee2-036e4a72429e",
   "metadata": {},
   "outputs": [],
   "source": [
    "x -= y"
   ]
  },
  {
   "cell_type": "code",
   "execution_count": 68,
   "id": "2c7dca83-999b-407d-b307-1fb9a4799ad5",
   "metadata": {},
   "outputs": [
    {
     "data": {
      "text/plain": [
       "16"
      ]
     },
     "execution_count": 68,
     "metadata": {},
     "output_type": "execute_result"
    }
   ],
   "source": [
    "x"
   ]
  },
  {
   "cell_type": "code",
   "execution_count": 69,
   "id": "3486bc67-92f5-4bb5-984d-654dfc6bc36e",
   "metadata": {},
   "outputs": [],
   "source": [
    "x *= y"
   ]
  },
  {
   "cell_type": "raw",
   "id": "ff539f8c-5b2a-405f-ae87-f72da69a3c6e",
   "metadata": {},
   "source": [
    "x"
   ]
  }
 ],
 "metadata": {
  "kernelspec": {
   "display_name": "Python 3 (ipykernel)",
   "language": "python",
   "name": "python3"
  },
  "language_info": {
   "codemirror_mode": {
    "name": "ipython",
    "version": 3
   },
   "file_extension": ".py",
   "mimetype": "text/x-python",
   "name": "python",
   "nbconvert_exporter": "python",
   "pygments_lexer": "ipython3",
   "version": "3.13.5"
  }
 },
 "nbformat": 4,
 "nbformat_minor": 5
}
