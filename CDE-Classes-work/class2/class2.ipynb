{
 "cells": [
  {
   "cell_type": "markdown",
   "id": "bd805453-a9cb-4bae-9f02-86b431997b7b",
   "metadata": {},
   "source": [
    "# Sun, Aug 2, 2025"
   ]
  },
  {
   "cell_type": "code",
   "execution_count": 1,
   "id": "9304cd80-779a-4e48-9edf-a1d0befdef71",
   "metadata": {},
   "outputs": [
    {
     "name": "stdout",
     "output_type": "stream",
     "text": [
      "Hello World...\n"
     ]
    }
   ],
   "source": [
    "print(\"Hello World...\") # this is a code cel"
   ]
  },
  {
   "cell_type": "markdown",
   "id": "a7663b0f-85f1-4bb4-80a7-25dba8578b61",
   "metadata": {},
   "source": [
    "This is a markdown cell so we ahve to follow the markdown syntax..."
   ]
  },
  {
   "cell_type": "markdown",
   "id": "556d68a2-37c0-46c9-95b3-54cc4364b6aa",
   "metadata": {},
   "source": [
    "# This is level-1 heading\n",
    "## This is level-2 heading\n",
    "### This is level-3 heading\n",
    "#### This is level-4 heading\n",
    "##### This is level-5 heading\n",
    "###### This is level-6 heading\n"
   ]
  },
  {
   "cell_type": "markdown",
   "id": "ac9fcda1-03c3-41a4-995b-ea36c579dee0",
   "metadata": {},
   "source": [
    "### Shortcuts for jupyter notebooks"
   ]
  },
  {
   "cell_type": "markdown",
   "id": "9ddb3a52-c600-4f83-8dde-7210e7e69a45",
   "metadata": {},
   "source": [
    "- ESC + M (to convert cell into markdown)\n",
    "- ESC + R (to convert cell into Raw)\n",
    "- ESC + Y (to convert cell into Code)"
   ]
  },
  {
   "cell_type": "markdown",
   "id": "11360107-bb01-4d56-8615-f2538bf74d6b",
   "metadata": {},
   "source": [
    "- ## 1 ..... #6 ( for level-1/level-6 heading)\n",
    "- ESC + A (to create cell above the present cell)\n",
    "- ESC + B (to create cell below the present cell)\n",
    "- ESC + DD (to delete the cell on which you're present)\n",
    "- SHIFT + ENTER (to run the cell and goto next cell)\n",
    "- CTRL + ENTER (to run the cell and not goto next cell)\n",
    "- CRTL + SHIFT + H ( to get all jupyter noteboo shortcuts)"
   ]
  },
  {
   "cell_type": "markdown",
   "id": "174da4fa-86d8-4e67-8177-1c9e8e8b3e49",
   "metadata": {},
   "source": [
    "#### Variables"
   ]
  },
  {
   "cell_type": "code",
   "execution_count": 2,
   "id": "d2de835d-cd88-40b5-b8a5-6407142f92d9",
   "metadata": {},
   "outputs": [],
   "source": [
    "name = \"Muhammad Faizan\""
   ]
  },
  {
   "cell_type": "code",
   "execution_count": 3,
   "id": "e8857fec-4940-49bf-8c20-cb9d98cc9839",
   "metadata": {},
   "outputs": [
    {
     "data": {
      "text/plain": [
       "'Muhammad Faizan'"
      ]
     },
     "execution_count": 3,
     "metadata": {},
     "output_type": "execute_result"
    }
   ],
   "source": [
    "name # variable of type string"
   ]
  },
  {
   "cell_type": "code",
   "execution_count": 4,
   "id": "a7a59678-7136-443e-b9b7-3edab5bbf43e",
   "metadata": {},
   "outputs": [],
   "source": [
    "age = 18"
   ]
  },
  {
   "cell_type": "code",
   "execution_count": 5,
   "id": "cd1c01d2-6c64-4db3-bc7e-33c5e902cab1",
   "metadata": {},
   "outputs": [
    {
     "data": {
      "text/plain": [
       "18"
      ]
     },
     "execution_count": 5,
     "metadata": {},
     "output_type": "execute_result"
    }
   ],
   "source": [
    "age  # variable of type integer"
   ]
  },
  {
   "cell_type": "code",
   "execution_count": 6,
   "id": "6e25a44d-b05c-4b7b-ab01-be0e837e7892",
   "metadata": {},
   "outputs": [],
   "source": [
    "weight = 20.5"
   ]
  },
  {
   "cell_type": "code",
   "execution_count": 7,
   "id": "5caded5a-fc86-4683-9b4c-d70487891ccb",
   "metadata": {},
   "outputs": [
    {
     "data": {
      "text/plain": [
       "20.5"
      ]
     },
     "execution_count": 7,
     "metadata": {},
     "output_type": "execute_result"
    }
   ],
   "source": [
    "weight # variable of type float"
   ]
  },
  {
   "cell_type": "code",
   "execution_count": 8,
   "id": "a0b96422-b547-4aba-9689-75b8bbfcfc2e",
   "metadata": {},
   "outputs": [],
   "source": [
    "is_present = True"
   ]
  },
  {
   "cell_type": "code",
   "execution_count": 9,
   "id": "c8f3905c-835c-49b2-b035-c4540c43266b",
   "metadata": {},
   "outputs": [
    {
     "data": {
      "text/plain": [
       "True"
      ]
     },
     "execution_count": 9,
     "metadata": {},
     "output_type": "execute_result"
    }
   ],
   "source": [
    "is_present # variable of type boolean"
   ]
  },
  {
   "cell_type": "code",
   "execution_count": 10,
   "id": "4f8bee07-a71e-4619-bc47-297803b3b5ca",
   "metadata": {},
   "outputs": [
    {
     "name": "stdout",
     "output_type": "stream",
     "text": [
      "<class 'str'>\n",
      "<class 'int'>\n",
      "<class 'float'>\n",
      "<class 'bool'>\n"
     ]
    }
   ],
   "source": [
    "# additional stuff\n",
    "# 1. type() - to give you the type of the variable\n",
    "# 2. id() - to give you the address of the variable\n",
    "\n",
    "print(type(name))\n",
    "print(type(age))\n",
    "print(type(weight))\n",
    "print(type(is_present))"
   ]
  },
  {
   "cell_type": "code",
   "execution_count": 11,
   "id": "d8fdf818-4442-43c8-b7c9-48089acff938",
   "metadata": {},
   "outputs": [
    {
     "data": {
      "text/plain": [
       "2516399848944"
      ]
     },
     "execution_count": 11,
     "metadata": {},
     "output_type": "execute_result"
    }
   ],
   "source": [
    "id(name)"
   ]
  },
  {
   "cell_type": "markdown",
   "id": "8b53c5fc-01a7-4b6e-aa67-7c2d0b202c88",
   "metadata": {},
   "source": [
    "### Operators"
   ]
  },
  {
   "cell_type": "code",
   "execution_count": 12,
   "id": "0d6190e4-0e2d-4f5d-8005-22048abfeea8",
   "metadata": {},
   "outputs": [
    {
     "data": {
      "text/plain": [
       "5"
      ]
     },
     "execution_count": 12,
     "metadata": {},
     "output_type": "execute_result"
    }
   ],
   "source": [
    "2+3"
   ]
  },
  {
   "cell_type": "code",
   "execution_count": 13,
   "id": "076d7d7a-ed54-42e4-b3ea-ea9edf3b9a8e",
   "metadata": {},
   "outputs": [
    {
     "data": {
      "text/plain": [
       "2"
      ]
     },
     "execution_count": 13,
     "metadata": {},
     "output_type": "execute_result"
    }
   ],
   "source": [
    "5-3"
   ]
  },
  {
   "cell_type": "code",
   "execution_count": 14,
   "id": "4a98582d-81bd-4767-894f-4d2b165317ce",
   "metadata": {},
   "outputs": [
    {
     "data": {
      "text/plain": [
       "15"
      ]
     },
     "execution_count": 14,
     "metadata": {},
     "output_type": "execute_result"
    }
   ],
   "source": [
    "3*5"
   ]
  },
  {
   "cell_type": "code",
   "execution_count": 15,
   "id": "e82d31e0-f7da-4f39-9317-bfe6f6ce20cc",
   "metadata": {},
   "outputs": [
    {
     "data": {
      "text/plain": [
       "2"
      ]
     },
     "execution_count": 15,
     "metadata": {},
     "output_type": "execute_result"
    }
   ],
   "source": [
    "7//3 # floor operator"
   ]
  },
  {
   "cell_type": "code",
   "execution_count": 16,
   "id": "529c30f7-28d5-4509-a8d1-6a34e9ccfe46",
   "metadata": {},
   "outputs": [
    {
     "data": {
      "text/plain": [
       "8"
      ]
     },
     "execution_count": 16,
     "metadata": {},
     "output_type": "execute_result"
    }
   ],
   "source": [
    "2**3 # power 2*2*2"
   ]
  },
  {
   "cell_type": "markdown",
   "id": "201ec342-eb4d-47fe-8057-5d83cf979521",
   "metadata": {},
   "source": [
    "## Expressions"
   ]
  },
  {
   "cell_type": "markdown",
   "id": "a957f898-bfa2-4774-83f7-9832df31f841",
   "metadata": {},
   "source": [
    "#### PEMDAS"
   ]
  },
  {
   "cell_type": "markdown",
   "id": "4d4340f7-cff1-4201-a590-8bdfdf37e73a",
   "metadata": {},
   "source": [
    "- Paranthesis,\n",
    "- Exponential(power),\n",
    "- Multiplication,\n",
    "- Division,\n",
    "- Addition,\n",
    "-Subtraction"
   ]
  },
  {
   "cell_type": "code",
   "execution_count": 17,
   "id": "1e6d0a8b-fdf5-4868-90ab-9b4218641f6d",
   "metadata": {},
   "outputs": [
    {
     "data": {
      "text/plain": [
       "-2.8"
      ]
     },
     "execution_count": 17,
     "metadata": {},
     "output_type": "execute_result"
    }
   ],
   "source": [
    "(2-3)-(4-3)-4/5"
   ]
  },
  {
   "cell_type": "code",
   "execution_count": 18,
   "id": "34b1be40-df40-45a1-a201-1a917f92a4d1",
   "metadata": {},
   "outputs": [
    {
     "data": {
      "text/plain": [
       "65.8"
      ]
     },
     "execution_count": 18,
     "metadata": {},
     "output_type": "execute_result"
    }
   ],
   "source": [
    "(((4+5)**2)*4)/5+(3-2)\n",
    "\n"
   ]
  },
  {
   "cell_type": "markdown",
   "id": "443b891f-64f8-4e6e-bd01-6edef68c9d77",
   "metadata": {},
   "source": [
    "### Advance Operators"
   ]
  },
  {
   "cell_type": "markdown",
   "id": "8ca45b41-25da-45a9-81e3-4bb5140fa8dc",
   "metadata": {},
   "source": [
    "- +=\n",
    "- -=\n",
    "- /=\n",
    "- *="
   ]
  },
  {
   "cell_type": "code",
   "execution_count": 19,
   "id": "5e4bc6c6-d51a-4135-bb5f-dd285b14631e",
   "metadata": {},
   "outputs": [],
   "source": [
    "num1 = 5\n",
    "num2 = 4\n",
    "\n"
   ]
  },
  {
   "cell_type": "code",
   "execution_count": 20,
   "id": "66ea552c-ff48-4c12-8cc5-cf6ac0e54df3",
   "metadata": {},
   "outputs": [],
   "source": [
    "num1 += num2"
   ]
  },
  {
   "cell_type": "code",
   "execution_count": 21,
   "id": "aca9b7b1-7d78-470e-afb8-0b265cde9224",
   "metadata": {},
   "outputs": [
    {
     "data": {
      "text/plain": [
       "9"
      ]
     },
     "execution_count": 21,
     "metadata": {},
     "output_type": "execute_result"
    }
   ],
   "source": [
    "num1"
   ]
  },
  {
   "cell_type": "code",
   "execution_count": 22,
   "id": "96ea54f3-5aa3-43b1-a0f1-205c24680e4c",
   "metadata": {},
   "outputs": [
    {
     "data": {
      "text/plain": [
       "4"
      ]
     },
     "execution_count": 22,
     "metadata": {},
     "output_type": "execute_result"
    }
   ],
   "source": [
    "num2"
   ]
  },
  {
   "cell_type": "code",
   "execution_count": 23,
   "id": "9199b1a5-79d0-43d5-8f26-ecd5f67cd2b9",
   "metadata": {},
   "outputs": [],
   "source": [
    "num1 -= num2"
   ]
  },
  {
   "cell_type": "code",
   "execution_count": 24,
   "id": "e6997840-8a17-436d-aa8e-d57364a5dd3c",
   "metadata": {},
   "outputs": [
    {
     "data": {
      "text/plain": [
       "4"
      ]
     },
     "execution_count": 24,
     "metadata": {},
     "output_type": "execute_result"
    }
   ],
   "source": [
    "num2\n"
   ]
  },
  {
   "cell_type": "code",
   "execution_count": 25,
   "id": "23956cd3-1b2d-479c-aac1-a35e4234d40c",
   "metadata": {},
   "outputs": [],
   "source": [
    "num1 *= num2"
   ]
  },
  {
   "cell_type": "code",
   "execution_count": 26,
   "id": "7dc0e0c6-a16a-40f7-a01b-8fbb92242917",
   "metadata": {},
   "outputs": [
    {
     "data": {
      "text/plain": [
       "20"
      ]
     },
     "execution_count": 26,
     "metadata": {},
     "output_type": "execute_result"
    }
   ],
   "source": [
    "num1"
   ]
  },
  {
   "cell_type": "code",
   "execution_count": 27,
   "id": "21931672-5dc6-4535-9f48-d0b1fbc8641e",
   "metadata": {},
   "outputs": [
    {
     "data": {
      "text/plain": [
       "4"
      ]
     },
     "execution_count": 27,
     "metadata": {},
     "output_type": "execute_result"
    }
   ],
   "source": [
    "num2\n"
   ]
  },
  {
   "cell_type": "code",
   "execution_count": 28,
   "id": "05b9aa37-e855-406a-9e4c-6cf93eb9097d",
   "metadata": {},
   "outputs": [],
   "source": [
    "num1 /= num2"
   ]
  },
  {
   "cell_type": "code",
   "execution_count": 29,
   "id": "a4b966b9-01ac-4169-bc52-8bc7588fd9f7",
   "metadata": {},
   "outputs": [
    {
     "data": {
      "text/plain": [
       "5.0"
      ]
     },
     "execution_count": 29,
     "metadata": {},
     "output_type": "execute_result"
    }
   ],
   "source": [
    "num1"
   ]
  },
  {
   "cell_type": "code",
   "execution_count": 31,
   "id": "825b3f08-1c7e-4f7e-8889-979da26cd414",
   "metadata": {},
   "outputs": [
    {
     "data": {
      "text/plain": [
       "4"
      ]
     },
     "execution_count": 31,
     "metadata": {},
     "output_type": "execute_result"
    }
   ],
   "source": [
    "num2"
   ]
  },
  {
   "cell_type": "code",
   "execution_count": 32,
   "id": "d95c554d-f874-44ed-800a-c7ab89d145e3",
   "metadata": {},
   "outputs": [
    {
     "data": {
      "text/plain": [
       "True"
      ]
     },
     "execution_count": 32,
     "metadata": {},
     "output_type": "execute_result"
    }
   ],
   "source": [
    "5>2"
   ]
  },
  {
   "cell_type": "code",
   "execution_count": 33,
   "id": "2ab9e049-cd19-40dd-8fd9-5f91f676b163",
   "metadata": {},
   "outputs": [
    {
     "data": {
      "text/plain": [
       "False"
      ]
     },
     "execution_count": 33,
     "metadata": {},
     "output_type": "execute_result"
    }
   ],
   "source": [
    "5<2"
   ]
  },
  {
   "cell_type": "code",
   "execution_count": 36,
   "id": "0a29cbd3-8650-4e91-9621-4fd527862d8a",
   "metadata": {},
   "outputs": [
    {
     "data": {
      "text/plain": [
       "True"
      ]
     },
     "execution_count": 36,
     "metadata": {},
     "output_type": "execute_result"
    }
   ],
   "source": [
    "5 == 5"
   ]
  },
  {
   "cell_type": "code",
   "execution_count": 37,
   "id": "a7cee88c-d38d-492e-928d-85bb1150d699",
   "metadata": {},
   "outputs": [],
   "source": [
    "name = 'Faizan'"
   ]
  },
  {
   "cell_type": "code",
   "execution_count": 38,
   "id": "8484046c-a796-4044-9940-3f5d1b2e7fb0",
   "metadata": {},
   "outputs": [
    {
     "data": {
      "text/plain": [
       "'Faizan'"
      ]
     },
     "execution_count": 38,
     "metadata": {},
     "output_type": "execute_result"
    }
   ],
   "source": [
    "name"
   ]
  },
  {
   "cell_type": "code",
   "execution_count": 40,
   "id": "7bdd1a14-d457-4078-9d4c-808b91ece7a0",
   "metadata": {},
   "outputs": [
    {
     "data": {
      "text/plain": [
       "False"
      ]
     },
     "execution_count": 40,
     "metadata": {},
     "output_type": "execute_result"
    }
   ],
   "source": [
    "5 >= 6"
   ]
  },
  {
   "cell_type": "code",
   "execution_count": 41,
   "id": "65df6e94-82e7-4a5e-8106-2e2f15946548",
   "metadata": {},
   "outputs": [
    {
     "data": {
      "text/plain": [
       "False"
      ]
     },
     "execution_count": 41,
     "metadata": {},
     "output_type": "execute_result"
    }
   ],
   "source": [
    "1 != 1"
   ]
  },
  {
   "cell_type": "code",
   "execution_count": 44,
   "id": "4a798760-d5e8-46b7-a649-55db18ebf02d",
   "metadata": {},
   "outputs": [
    {
     "ename": "SyntaxError",
     "evalue": "invalid syntax (4024262506.py, line 1)",
     "output_type": "error",
     "traceback": [
      "\u001b[1;36m  Cell \u001b[1;32mIn[44], line 1\u001b[1;36m\u001b[0m\n\u001b[1;33m    1 <> 1 # this opertor is been used in older verions of python\u001b[0m\n\u001b[1;37m      ^\u001b[0m\n\u001b[1;31mSyntaxError\u001b[0m\u001b[1;31m:\u001b[0m invalid syntax\n"
     ]
    }
   ],
   "source": [
    "1 <> 1 # this opertor is been used in older verions of python"
   ]
  },
  {
   "cell_type": "code",
   "execution_count": 60,
   "id": "3680a1dc-ab92-4473-acb7-c1a1c9ef3c20",
   "metadata": {},
   "outputs": [],
   "source": [
    "print = \"Fazy\""
   ]
  },
  {
   "cell_type": "code",
   "execution_count": 70,
   "id": "4ba84285-7e72-45e1-8301-4461340216c6",
   "metadata": {},
   "outputs": [
    {
     "data": {
      "text/plain": [
       "'Fazy'"
      ]
     },
     "execution_count": 70,
     "metadata": {},
     "output_type": "execute_result"
    }
   ],
   "source": [
    "print"
   ]
  },
  {
   "cell_type": "code",
   "execution_count": 71,
   "id": "1225e1f0-2995-44b9-a06d-134d1f3e7c65",
   "metadata": {},
   "outputs": [],
   "source": [
    "#print(print)"
   ]
  },
  {
   "cell_type": "code",
   "execution_count": 75,
   "id": "5cd8a5d6-a4d6-41f0-b471-bddbeb890611",
   "metadata": {},
   "outputs": [],
   "source": [
    "name ='Faizy'"
   ]
  },
  {
   "cell_type": "code",
   "execution_count": 76,
   "id": "809f4cef-cec1-45bf-bdba-ef884b99bab9",
   "metadata": {},
   "outputs": [
    {
     "data": {
      "text/plain": [
       "'Faizy'"
      ]
     },
     "execution_count": 76,
     "metadata": {},
     "output_type": "execute_result"
    }
   ],
   "source": [
    "name"
   ]
  },
  {
   "cell_type": "code",
   "execution_count": 78,
   "id": "32dfbb9f-76c6-4df9-9339-c238580c8c45",
   "metadata": {},
   "outputs": [
    {
     "ename": "TypeError",
     "evalue": "'str' object is not callable",
     "output_type": "error",
     "traceback": [
      "\u001b[1;31m---------------------------------------------------------------------------\u001b[0m",
      "\u001b[1;31mTypeError\u001b[0m                                 Traceback (most recent call last)",
      "Cell \u001b[1;32mIn[78], line 2\u001b[0m\n\u001b[0;32m      1\u001b[0m name \u001b[38;5;241m=\u001b[39m \u001b[38;5;124m\"\u001b[39m\u001b[38;5;124mFaizy\u001b[39m\u001b[38;5;124m\"\u001b[39m\n\u001b[1;32m----> 2\u001b[0m \u001b[38;5;28mprint\u001b[39m(name)\n",
      "\u001b[1;31mTypeError\u001b[0m: 'str' object is not callable"
     ]
    }
   ],
   "source": [
    "name = \"Faizy\"\n",
    "print(name)"
   ]
  },
  {
   "cell_type": "code",
   "execution_count": 79,
   "id": "bd2da32f-0aef-41f0-98cd-6c7a978b834c",
   "metadata": {},
   "outputs": [],
   "source": [
    "del print\n",
    "#reset print"
   ]
  },
  {
   "cell_type": "code",
   "execution_count": 80,
   "id": "9b8d60e9-38a2-48ad-870b-d117610c4dd9",
   "metadata": {},
   "outputs": [
    {
     "name": "stdout",
     "output_type": "stream",
     "text": [
      "Faizy\n"
     ]
    }
   ],
   "source": [
    "print(name)"
   ]
  },
  {
   "cell_type": "code",
   "execution_count": 81,
   "id": "d50501f9-1e0d-4d62-a438-bb839c8961fb",
   "metadata": {},
   "outputs": [],
   "source": [
    "f_name =\"Faizy\""
   ]
  },
  {
   "cell_type": "code",
   "execution_count": 82,
   "id": "b43f83c1-240d-41ec-862f-7e5a3db19755",
   "metadata": {},
   "outputs": [],
   "source": [
    "l_name =\"sheikh\""
   ]
  },
  {
   "cell_type": "code",
   "execution_count": 83,
   "id": "798a1fed-381f-48df-a293-49e85ba0f0d3",
   "metadata": {},
   "outputs": [],
   "source": [
    "full_name =  f_name  +  l_name"
   ]
  },
  {
   "cell_type": "code",
   "execution_count": 84,
   "id": "53bba2e5-c5ab-4164-9d75-2087381dc18b",
   "metadata": {},
   "outputs": [
    {
     "name": "stdout",
     "output_type": "stream",
     "text": [
      "Faizysheikh\n"
     ]
    }
   ],
   "source": [
    "print(full_name)"
   ]
  },
  {
   "cell_type": "code",
   "execution_count": 85,
   "id": "7a2aed98-eb39-430f-b189-deb0eb106f62",
   "metadata": {},
   "outputs": [
    {
     "data": {
      "text/plain": [
       "'Faizysheikh'"
      ]
     },
     "execution_count": 85,
     "metadata": {},
     "output_type": "execute_result"
    }
   ],
   "source": [
    "\"Faizy\"+\"sheikh\"\n"
   ]
  },
  {
   "cell_type": "code",
   "execution_count": 86,
   "id": "dd38f86a-e620-4eec-a29b-a102058c6035",
   "metadata": {},
   "outputs": [],
   "source": [
    "full_name = f_name + ' ' + l_name # METHOD-1 using + operator"
   ]
  },
  {
   "cell_type": "code",
   "execution_count": 87,
   "id": "712760f0-3f6e-49d5-ab6b-92999fe325ca",
   "metadata": {},
   "outputs": [
    {
     "data": {
      "text/plain": [
       "'Faizy sheikh'"
      ]
     },
     "execution_count": 87,
     "metadata": {},
     "output_type": "execute_result"
    }
   ],
   "source": [
    "full_name"
   ]
  },
  {
   "cell_type": "code",
   "execution_count": 88,
   "id": "f8425b7c-c827-43e3-9efd-665c331ceebc",
   "metadata": {},
   "outputs": [],
   "source": [
    "full_name = f\"{f_name} {l_name}\" # MTEHOD-2 f string"
   ]
  },
  {
   "cell_type": "code",
   "execution_count": 101,
   "id": "adabb3d1-9cdc-4ad1-91f0-23e789c864df",
   "metadata": {},
   "outputs": [
    {
     "data": {
      "text/plain": [
       "'sheikhFaizy'"
      ]
     },
     "execution_count": 101,
     "metadata": {},
     "output_type": "execute_result"
    }
   ],
   "source": [
    "full_name"
   ]
  },
  {
   "cell_type": "code",
   "execution_count": 103,
   "id": "6f6e8fd1-8933-4edb-bde6-ddf639a66c71",
   "metadata": {},
   "outputs": [],
   "source": [
    "full_name = f\"{l_name} {f_name}\" # MTEHOD-2 f string"
   ]
  },
  {
   "cell_type": "code",
   "execution_count": 104,
   "id": "a81eb445-d168-4ee0-bec9-8b57c12ad238",
   "metadata": {},
   "outputs": [
    {
     "data": {
      "text/plain": [
       "'sheikh Faizy'"
      ]
     },
     "execution_count": 104,
     "metadata": {},
     "output_type": "execute_result"
    }
   ],
   "source": [
    "full_name"
   ]
  },
  {
   "cell_type": "code",
   "execution_count": 105,
   "id": "b2caca75-5bc5-4a98-9298-b03863521569",
   "metadata": {},
   "outputs": [],
   "source": [
    "full_name = f\"{f_name} {f_name}\" # MTEHOD-2 f string"
   ]
  },
  {
   "cell_type": "code",
   "execution_count": 106,
   "id": "64532939-bac5-46e1-8416-7c9ef7430d2c",
   "metadata": {},
   "outputs": [
    {
     "data": {
      "text/plain": [
       "'Faizy Faizy'"
      ]
     },
     "execution_count": 106,
     "metadata": {},
     "output_type": "execute_result"
    }
   ],
   "source": [
    "full_name"
   ]
  },
  {
   "cell_type": "code",
   "execution_count": 93,
   "id": "e1e85490-d7b7-4ad6-991f-c34e8958cee7",
   "metadata": {},
   "outputs": [],
   "source": [
    "full_name = \"{0}{1}\".format(f_name,l_name)"
   ]
  },
  {
   "cell_type": "code",
   "execution_count": 94,
   "id": "09f05448-a082-41fb-9caf-4fd203250b78",
   "metadata": {},
   "outputs": [
    {
     "data": {
      "text/plain": [
       "'Faizysheikh'"
      ]
     },
     "execution_count": 94,
     "metadata": {},
     "output_type": "execute_result"
    }
   ],
   "source": [
    "full_name"
   ]
  },
  {
   "cell_type": "code",
   "execution_count": 97,
   "id": "16ec11bc-6e1c-4c2d-b80a-7a2d3c7ad8c6",
   "metadata": {},
   "outputs": [],
   "source": [
    "full_name = \"{1}{1}\".format(f_name,l_name)"
   ]
  },
  {
   "cell_type": "code",
   "execution_count": 98,
   "id": "f9aa1d1a-6d78-420d-8120-84a6b76b9707",
   "metadata": {},
   "outputs": [
    {
     "data": {
      "text/plain": [
       "'sheikhsheikh'"
      ]
     },
     "execution_count": 98,
     "metadata": {},
     "output_type": "execute_result"
    }
   ],
   "source": [
    "full_name"
   ]
  },
  {
   "cell_type": "code",
   "execution_count": 99,
   "id": "be7a8f9d-5005-4b5d-8956-96eeaf2aae1a",
   "metadata": {},
   "outputs": [],
   "source": [
    "full_name = \"{1}{0}\".format(f_name,l_name)"
   ]
  },
  {
   "cell_type": "code",
   "execution_count": 100,
   "id": "2b23cb1b-dc87-4634-a5dc-88ae6432e4c5",
   "metadata": {},
   "outputs": [
    {
     "data": {
      "text/plain": [
       "'sheikhFaizy'"
      ]
     },
     "execution_count": 100,
     "metadata": {},
     "output_type": "execute_result"
    }
   ],
   "source": [
    "full_name"
   ]
  },
  {
   "cell_type": "code",
   "execution_count": 107,
   "id": "176eb07f-146c-4a24-ab2c-45af3ea51444",
   "metadata": {},
   "outputs": [
    {
     "data": {
      "text/plain": [
       "'this is a class of saylani batch-3'"
      ]
     },
     "execution_count": 107,
     "metadata": {},
     "output_type": "execute_result"
    }
   ],
   "source": [
    "\"this is a class of {0} {1}\".format(\"saylani\", \"batch-3\")"
   ]
  },
  {
   "cell_type": "code",
   "execution_count": 108,
   "id": "d21956cb-a601-46ff-8a1f-dc704d4c5095",
   "metadata": {},
   "outputs": [
    {
     "data": {
      "text/plain": [
       "'My name is sheikh Faizy'"
      ]
     },
     "execution_count": 108,
     "metadata": {},
     "output_type": "execute_result"
    }
   ],
   "source": [
    "\"My name is {1} {0}\".format(f_name, l_name)"
   ]
  },
  {
   "cell_type": "code",
   "execution_count": 109,
   "id": "b583fbe0-09c5-491b-8b6f-31edb18f9238",
   "metadata": {},
   "outputs": [
    {
     "data": {
      "text/plain": [
       "'thori deen k bt sunlo'"
      ]
     },
     "execution_count": 109,
     "metadata": {},
     "output_type": "execute_result"
    }
   ],
   "source": [
    "\"{0} {1}\".format(\"thori deen k bt\", \"sunlo\")"
   ]
  },
  {
   "cell_type": "code",
   "execution_count": null,
   "id": "565e9231-2e98-4131-9dac-e2161b3e6825",
   "metadata": {},
   "outputs": [],
   "source": []
  }
 ],
 "metadata": {
  "kernelspec": {
   "display_name": "Python 3 (ipykernel)",
   "language": "python",
   "name": "python3"
  },
  "language_info": {
   "codemirror_mode": {
    "name": "ipython",
    "version": 3
   },
   "file_extension": ".py",
   "mimetype": "text/x-python",
   "name": "python",
   "nbconvert_exporter": "python",
   "pygments_lexer": "ipython3",
   "version": "3.13.5"
  }
 },
 "nbformat": 4,
 "nbformat_minor": 5
}
