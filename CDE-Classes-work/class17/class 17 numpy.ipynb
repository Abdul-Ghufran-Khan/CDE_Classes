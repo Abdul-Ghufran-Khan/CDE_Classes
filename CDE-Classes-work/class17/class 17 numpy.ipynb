{
 "cells": [
  {
   "cell_type": "code",
   "execution_count": null,
   "id": "564d9003-1ce5-4084-894b-c87a95533e36",
   "metadata": {},
   "outputs": [],
   "source": [
    "import numpy as np\n",
    "\n",
    "arr_2d = np.array([[40.5,45.6,55.8,60.2],\n",
    "                   [5,5.3,6,5.8]])\n",
    "arr_2d_2 = np.array([[40.5,60.8,55.8,60.2],\n",
    "                   [5,5.3,6,5.8]])"
   ]
  },
  {
   "cell_type": "code",
   "execution_count": null,
   "id": "b12c7d33-0531-426c-abd0-8809c03eee00",
   "metadata": {},
   "outputs": [
    {
     "data": {
      "text/plain": [
       "array([[45.6, 55.8],\n",
       "       [ 5.3,  6. ]])"
      ]
     },
     "execution_count": 9,
     "metadata": {},
     "output_type": "execute_result"
    }
   ],
   "source": [
    "arr_2d[:, 1:3]"
   ]
  },
  {
   "cell_type": "code",
   "execution_count": null,
   "id": "75e86daf-bb0f-4024-b210-91b2e552423f",
   "metadata": {},
   "outputs": [
    {
     "data": {
      "text/plain": [
       "np.float64(28.025)"
      ]
     },
     "execution_count": 10,
     "metadata": {},
     "output_type": "execute_result"
    }
   ],
   "source": [
    "np.mean(arr_2d)"
   ]
  },
  {
   "cell_type": "code",
   "execution_count": null,
   "id": "052da2ca-f669-4045-be34-155fea91f56d",
   "metadata": {},
   "outputs": [
    {
     "data": {
      "text/plain": [
       "array([[ 81. , 106.4, 111.6, 120.4],\n",
       "       [ 10. ,  10.6,  12. ,  11.6]])"
      ]
     },
     "execution_count": 11,
     "metadata": {},
     "output_type": "execute_result"
    }
   ],
   "source": [
    "np.add(arr_2d,arr_2d_2)"
   ]
  },
  {
   "cell_type": "code",
   "execution_count": null,
   "id": "d02e3bff-1c23-4a3d-83db-a49bd27ae0b5",
   "metadata": {},
   "outputs": [
    {
     "data": {
      "text/plain": [
       "array([40.5, 55.8, 60.2, 60.8])"
      ]
     },
     "execution_count": 12,
     "metadata": {},
     "output_type": "execute_result"
    }
   ],
   "source": [
    "np.sort(arr_2d_2[0])"
   ]
  },
  {
   "cell_type": "code",
   "execution_count": null,
   "id": "07dc4c7e-e92b-4843-9ca4-73e97749c591",
   "metadata": {},
   "outputs": [
    {
     "ename": "TypeError",
     "evalue": "random() takes at most 1 positional argument (3 given)",
     "output_type": "error",
     "traceback": [
      "\u001b[1;31m---------------------------------------------------------------------------\u001b[0m",
      "\u001b[1;31mTypeError\u001b[0m                                 Traceback (most recent call last)",
      "Cell \u001b[1;32mIn[13], line 1\u001b[0m\n\u001b[1;32m----> 1\u001b[0m np\u001b[38;5;241m.\u001b[39mrandom\u001b[38;5;241m.\u001b[39mrandom(\u001b[38;5;241m0.1\u001b[39m,\u001b[38;5;241m1.0\u001b[39m,\u001b[38;5;241m10\u001b[39m)\n",
      "File \u001b[1;32mnumpy\\\\random\\\\mtrand.pyx:443\u001b[0m, in \u001b[0;36mnumpy.random.mtrand.RandomState.random\u001b[1;34m()\u001b[0m\n",
      "\u001b[1;31mTypeError\u001b[0m: random() takes at most 1 positional argument (3 given)"
     ]
    }
   ],
   "source": [
    "np.random.random(0.1,1.0,10)"
   ]
  },
  {
   "cell_type": "code",
   "execution_count": null,
   "id": "00912e6c-f752-40d0-b702-a97e9e194afb",
   "metadata": {},
   "outputs": [
    {
     "name": "stdout",
     "output_type": "stream",
     "text": [
      "[0.7955985  0.86578845 0.80664158 0.76945675 0.70463888 0.80762057\n",
      " 0.93823327 0.32937268 0.2488398  0.47415459]\n"
     ]
    }
   ],
   "source": [
    "import numpy as np\n",
    "\n",
    "arr = np.random.uniform(0.1, 1.0, 10)\n",
    "print(arr)\n"
   ]
  },
  {
   "cell_type": "code",
   "execution_count": null,
   "id": "8f522e6a",
   "metadata": {},
   "outputs": [
    {
     "name": "stdout",
     "output_type": "stream",
     "text": [
      "[4 3 4 8 2 6 1 2 8 5]\n"
     ]
    }
   ],
   "source": [
    "import numpy as np\n",
    "\n",
    "arr = np.random.randint(0, 9, 10)\n",
    "print(arr)\n"
   ]
  },
  {
   "cell_type": "code",
   "execution_count": null,
   "id": "17a82c98",
   "metadata": {},
   "outputs": [
    {
     "name": "stdout",
     "output_type": "stream",
     "text": [
      "[1.63 1.76 1.82 1.86 1.88 1.88 1.66 1.85 1.85 1.75 1.45 1.88 1.28 1.78\n",
      " 2.04 1.66 1.96 1.94 1.58 1.94 2.27 1.7  1.57 1.56 1.98 1.8  1.78 1.86\n",
      " 1.58 1.53 1.46 2.02 1.25 1.71 1.6  1.55 1.65 1.37 1.92 1.75 1.79 1.73\n",
      " 1.86 1.74 1.42 1.56 1.59 1.8  1.63 1.73]\n"
     ]
    }
   ],
   "source": [
    "import numpy as np\n",
    "\n",
    "arr = np.round(np.random.normal(1.75, 0.20, 50),2)\n",
    "print(arr)\n"
   ]
  },
  {
   "cell_type": "code",
   "execution_count": null,
   "id": "0d6a465a",
   "metadata": {},
   "outputs": [
    {
     "name": "stdout",
     "output_type": "stream",
     "text": [
      "[1.66 1.51 1.96 1.52 1.56 1.43 1.85 1.53 1.62 1.72 2.01 1.88 1.89 1.75\n",
      " 1.73 1.45 1.93 1.36 1.74 1.96 1.78 1.56 1.87 1.62 1.73 1.74 1.53 2.13\n",
      " 1.74 1.98 1.72 2.12 1.79 1.92 1.84 1.75 1.78 1.53 1.74 1.9  1.68 1.72\n",
      " 1.52 1.72 1.64 1.64 1.74 1.62 1.78 1.71]\n"
     ]
    }
   ],
   "source": [
    "import numpy as np\n",
    "\n",
    "arr = np.random.normal(1.75, 0.20, 50)\n",
    "\n",
    "arr2n= np.round(arr,2)\n",
    "print(arr2n)"
   ]
  },
  {
   "cell_type": "code",
   "execution_count": null,
   "id": "78e970dd",
   "metadata": {},
   "outputs": [
    {
     "name": "stdout",
     "output_type": "stream",
     "text": [
      "[1.66 1.51 1.96 1.52 1.56 1.43 1.85 1.53 1.62 1.72 2.01 1.88 1.89 1.75\n",
      " 1.73 1.45 1.93 1.36 1.74 1.96 1.78 1.56 1.87 1.62 1.73 1.74 1.53 2.13\n",
      " 1.74 1.98 1.72 2.12 1.79 1.92 1.84 1.75 1.78 1.53 1.74 1.9  1.68 1.72\n",
      " 1.52 1.72 1.64 1.64 1.74 1.62 1.78 1.71]\n"
     ]
    }
   ],
   "source": [
    "arr2n=np.round(arr,2)\n",
    "print(arr2n)"
   ]
  },
  {
   "cell_type": "code",
   "execution_count": null,
   "id": "38d1f03d",
   "metadata": {},
   "outputs": [
    {
     "name": "stdout",
     "output_type": "stream",
     "text": [
      "[1.77 1.64 1.71 1.62 1.83 1.56 1.51 2.11 1.76 1.87 1.81 1.59 1.56 1.62\n",
      " 1.76 1.9  1.71 1.64 1.56 1.99 1.56 2.09 1.48 2.04 2.23 1.7  1.9  2.05\n",
      " 1.75 1.58 1.65 1.4  1.97 1.66 1.68 2.13 1.3  1.66 1.69 1.85 1.32 1.56\n",
      " 1.98 1.7  1.5  1.69 2.11 2.18 1.69 1.86]\n"
     ]
    }
   ],
   "source": [
    "arr = np.round(np.random.normal(1.75, 0.20, 50),2)\n",
    "print(arr)\n"
   ]
  },
  {
   "cell_type": "code",
   "execution_count": null,
   "id": "d554a303",
   "metadata": {},
   "outputs": [
    {
     "name": "stdout",
     "output_type": "stream",
     "text": [
      "[1.8 1.6 1.7 1.6 1.8 1.6 1.5 2.1 1.8 1.9 1.8 1.6 1.6 1.6 1.8 1.9 1.7 1.6\n",
      " 1.6 2.  1.6 2.1 1.5 2.  2.2 1.7 1.9 2.  1.8 1.6 1.6 1.4 2.  1.7 1.7 2.1\n",
      " 1.3 1.7 1.7 1.8 1.3 1.6 2.  1.7 1.5 1.7 2.1 2.2 1.7 1.9]\n"
     ]
    }
   ],
   "source": [
    "arr3=np.round(arr,1)\n",
    "print(arr3)"
   ]
  },
  {
   "cell_type": "code",
   "execution_count": null,
   "id": "2d88b97d",
   "metadata": {},
   "outputs": [
    {
     "name": "stdout",
     "output_type": "stream",
     "text": [
      "8\n",
      "95\n"
     ]
    }
   ],
   "source": [
    "list = [10,20,30,80,95,40,90,50]\n",
    "list_len = len(list)\n",
    "print(list_len)\n",
    "for i in range(0,list_len):\n",
    "    if  list[i] > max:\n",
    "        max = list[i]\n",
    "print(max) "
   ]
  },
  {
   "cell_type": "code",
   "execution_count": null,
   "id": "70797470",
   "metadata": {},
   "outputs": [
    {
     "name": "stdout",
     "output_type": "stream",
     "text": [
      "[[ 62 165]\n",
      " [ 70 175]\n",
      " [ 90 180]]\n"
     ]
    }
   ],
   "source": [
    "import numpy as np\n",
    "\n",
    "weights = np.array([55, 62, 70, 48, 90])\n",
    "heights = np.array([150, 165, 175, 158, 180])\n",
    "\n",
    "# filter using np.where\n",
    "filtered_indices = np.where((weights > 60) & (heights > 160))\n",
    "filtered_data = np.stack((weights[filtered_indices], heights[filtered_indices]), axis=1)\n",
    "\n",
    "print(filtered_data)\n",
    "\n",
    "\n",
    "\n",
    "\n",
    "\n",
    "\n"
   ]
  },
  {
   "cell_type": "code",
   "execution_count": null,
   "id": "73b17f45",
   "metadata": {},
   "outputs": [
    {
     "name": "stdout",
     "output_type": "stream",
     "text": [
      "[[0 2 3]\n",
      " [4 0 6]\n",
      " [7 8 0]]\n"
     ]
    }
   ],
   "source": [
    "def set_diagonal_zero(arr):\n",
    "    np.fill_diagonal(arr,0)\n",
    "    return arr\n",
    "a = np.array([[1,2,3],\n",
    "              [4,5,6],\n",
    "              [7,8,9]])\n",
    "\n",
    "print(set_diagonal_zero(a))"
   ]
  },
  {
   "cell_type": "code",
   "execution_count": null,
   "id": "150b7916",
   "metadata": {},
   "outputs": [
    {
     "name": "stdout",
     "output_type": "stream",
     "text": [
      "[3 5 4]\n"
     ]
    }
   ],
   "source": [
    "def top_k_largest(arr , k):\n",
    "    return np.argsort(arr)[-k:][::-1]\n",
    "b = np.array([10,47,37,783,68,97])\n",
    "# [10,37,47,68,97,783]\n",
    "\n",
    "print(top_k_largest(b ,3))"
   ]
  },
  {
   "cell_type": "code",
   "execution_count": null,
   "id": "7b84fc20",
   "metadata": {},
   "outputs": [
    {
     "name": "stdout",
     "output_type": "stream",
     "text": [
      "[[11 22 33]\n",
      " [14 25 36]]\n"
     ]
    }
   ],
   "source": [
    "a= np.array([[1,2,3],[4,5,6]])\n",
    "b=np.array([10,20,30])\n",
    "result =a+b\n",
    "print(result)"
   ]
  },
  {
   "cell_type": "markdown",
   "id": "1d2588e0",
   "metadata": {},
   "source": [
    "### Data visualization (MATPLOTIB)\n",
    "- "
   ]
  },
  {
   "cell_type": "markdown",
   "id": "b2544d1e",
   "metadata": {},
   "source": []
  },
  {
   "cell_type": "code",
   "execution_count": null,
   "id": "ece17547",
   "metadata": {},
   "outputs": [],
   "source": []
  },
  {
   "cell_type": "code",
   "execution_count": null,
   "id": "f13bd941",
   "metadata": {},
   "outputs": [
    {
     "name": "stdout",
     "output_type": "stream",
     "text": [
      "Requirement already satisfied: matplotlib in c:\\users\\win10\\anaconda3\\lib\\site-packages (3.10.0)\n",
      "Requirement already satisfied: contourpy>=1.0.1 in c:\\users\\win10\\anaconda3\\lib\\site-packages (from matplotlib) (1.3.1)\n",
      "Requirement already satisfied: cycler>=0.10 in c:\\users\\win10\\anaconda3\\lib\\site-packages (from matplotlib) (0.11.0)\n",
      "Requirement already satisfied: fonttools>=4.22.0 in c:\\users\\win10\\anaconda3\\lib\\site-packages (from matplotlib) (4.55.3)\n",
      "Requirement already satisfied: kiwisolver>=1.3.1 in c:\\users\\win10\\anaconda3\\lib\\site-packages (from matplotlib) (1.4.8)\n",
      "Requirement already satisfied: numpy>=1.23 in c:\\users\\win10\\anaconda3\\lib\\site-packages (from matplotlib) (2.1.3)\n",
      "Requirement already satisfied: packaging>=20.0 in c:\\users\\win10\\anaconda3\\lib\\site-packages (from matplotlib) (24.2)\n",
      "Requirement already satisfied: pillow>=8 in c:\\users\\win10\\anaconda3\\lib\\site-packages (from matplotlib) (11.1.0)\n",
      "Requirement already satisfied: pyparsing>=2.3.1 in c:\\users\\win10\\anaconda3\\lib\\site-packages (from matplotlib) (3.2.0)\n",
      "Requirement already satisfied: python-dateutil>=2.7 in c:\\users\\win10\\anaconda3\\lib\\site-packages (from matplotlib) (2.9.0.post0)\n",
      "Requirement already satisfied: six>=1.5 in c:\\users\\win10\\anaconda3\\lib\\site-packages (from python-dateutil>=2.7->matplotlib) (1.17.0)\n",
      "Note: you may need to restart the kernel to use updated packages.\n"
     ]
    }
   ],
   "source": [
    "pip install matplotlib"
   ]
  },
  {
   "cell_type": "code",
   "execution_count": null,
   "id": "bbbfc948",
   "metadata": {},
   "outputs": [
    {
     "data": {
      "image/png": "[encoded data removed]",
      "text/plain": [
       "<Figure size 640x480 with 1 Axes>"
      ]
     },
     "metadata": {},
     "output_type": "display_data"
    }
   ],
   "source": [
    "import matplotlib.pyplot as plt\n",
    "year = [1990,2000,2010,2020]\n",
    "pop =[2.3,4.5,5.7,6.8]\n",
    "\n",
    "plt.plot(year,pop)\n",
    "plt.show()\n",
    "\n"
   ]
  },
  {
   "cell_type": "code",
   "execution_count": null,
   "id": "f4d95d75",
   "metadata": {},
   "outputs": [
    {
     "data": {
      "image/png": "[encoded data removed]",
      "text/plain": [
       "<Figure size 640x480 with 1 Axes>"
      ]
     },
     "metadata": {},
     "output_type": "display_data"
    }
   ],
   "source": [
    "import matplotlib.pyplot as plt\n",
    "\n",
    "year = [1990, 2000, 2010, 2020]\n",
    "pop = [2.3, 4.5, 5.7, 6.8]\n",
    "\n",
    "plt.plot(year, pop, marker='o', color='red')  # marker='o' se points show honge\n",
    "plt.title(\"World Population Growth\")\n",
    "plt.xlabel(\"Year\")\n",
    "plt.ylabel(\"Population (Billions)\")\n",
    "plt.grid(True)\n",
    "plt.show()\n"
   ]
  },
  {
   "cell_type": "code",
   "execution_count": 9,
   "id": "63409ca1",
   "metadata": {},
   "outputs": [
    {
     "data": {
      "text/plain": [
       "(array([5., 3., 5., 4., 6.]),\n",
       " array([18. , 26.4, 34.8, 43.2, 51.6, 60. ]),\n",
       " <BarContainer object of 5 artists>)"
      ]
     },
     "execution_count": 9,
     "metadata": {},
     "output_type": "execute_result"
    },
    {
     "data": {
      "image/png": "[encoded data removed]",
      "text/plain": [
       "<Figure size 640x480 with 1 Axes>"
      ]
     },
     "metadata": {},
     "output_type": "display_data"
    }
   ],
   "source": [
    "import matplotlib.pyplot as plt\n",
    "\n",
    "# sample data (like ages of people)\n",
    "ages = [18, 20, 22, 25, 26, 27,30,  31, 35, 36, 38,40, 42, 45, 46, 48, 50, 52, 55,56,58,59,60]\n",
    "    #[18, 20, 22, 25, 26, 27, 30, 31, 35, 36, 38, 40, 42, 45, 46, 48, 50, 52, 55,56]\n",
    "# make a histogram\n",
    "plt.hist(ages, bins=5, color='purple', edgecolor='white')"
   ]
  },
  {
   "cell_type": "code",
   "execution_count": null,
   "id": "e6c21549",
   "metadata": {},
   "outputs": [],
   "source": []
  },
  {
   "cell_type": "code",
   "execution_count": null,
   "id": "4bd5d9fb",
   "metadata": {},
   "outputs": [],
   "source": []
  }
 ],
 "metadata": {
  "kernelspec": {
   "display_name": "base",
   "language": "python",
   "name": "python3"
  },
  "language_info": {
   "codemirror_mode": {
    "name": "ipython",
    "version": 3
   },
   "file_extension": ".py",
   "mimetype": "text/x-python",
   "name": "python",
   "nbconvert_exporter": "python",
   "pygments_lexer": "ipython3",
   "version": "3.13.5"
  }
 },
 "nbformat": 4,
 "nbformat_minor": 5
}
