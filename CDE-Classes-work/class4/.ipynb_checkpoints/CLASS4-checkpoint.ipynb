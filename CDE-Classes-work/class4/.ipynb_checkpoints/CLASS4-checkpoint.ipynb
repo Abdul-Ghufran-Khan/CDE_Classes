{
 "cells": [
  {
   "cell_type": "code",
   "execution_count": 1,
   "id": "23786438-8891-43c3-965e-5283629709ee",
   "metadata": {},
   "outputs": [
    {
     "name": "stdout",
     "output_type": "stream",
     "text": [
      "hello world.....\n"
     ]
    }
   ],
   "source": [
    "print(\"hello world.....\")"
   ]
  },
  {
   "cell_type": "code",
   "execution_count": 5,
   "id": "b31e92ba-1f02-416e-8693-6292ab5a2515",
   "metadata": {},
   "outputs": [
    {
     "name": "stdout",
     "output_type": "stream",
     "text": [
      "9-AUG-2025\n"
     ]
    }
   ],
   "source": [
    "print(\"9-AUG-2025\")"
   ]
  },
  {
   "cell_type": "code",
   "execution_count": 21,
   "id": "b63c7628-2a1e-4dee-b0fd-d5aa309c0374",
   "metadata": {},
   "outputs": [],
   "source": [
    "city_0=\"Baltimore\"\n",
    "city_1=\"Chicago\"\n",
    "city_2=\"Denver\"\n",
    "city_3 = \"Los Angeles\"\n",
    "city_4 = \"SEattle\"\n",
    "city_5 = \"Los vagus\""
   ]
  },
  {
   "cell_type": "code",
   "execution_count": 22,
   "id": "56a53612-a939-4865-a241-26161743d673",
   "metadata": {},
   "outputs": [
    {
     "data": {
      "text/plain": [
       "(1605621453872, 1605609300944)"
      ]
     },
     "execution_count": 22,
     "metadata": {},
     "output_type": "execute_result"
    }
   ],
   "source": [
    "id(city_0) , id(city_4)\n"
   ]
  },
  {
   "cell_type": "markdown",
   "id": "6064902f-2458-4b76-b0c1-7f813a07d15f",
   "metadata": {},
   "source": [
    "- managing  collection of values\n",
    "- slower\n",
    "- solution data structure for collection of values is List\n"
   ]
  },
  {
   "cell_type": "code",
   "execution_count": 48,
   "id": "d222eb52-3ed7-429f-9a6c-5d7917d275ea",
   "metadata": {},
   "outputs": [],
   "source": [
    "cities=['Baltimore','Chicago','Denver','Los Angeles','SEattle','Los vagus']\n",
    "\n"
   ]
  },
  {
   "cell_type": "code",
   "execution_count": 49,
   "id": "32bbd56d-d3c8-4660-ab7d-59681cb048f0",
   "metadata": {},
   "outputs": [
    {
     "data": {
      "text/plain": [
       "['Baltimore', 'Chicago', 'Denver', 'Los Angeles', 'SEattle', 'Los vagus']"
      ]
     },
     "execution_count": 49,
     "metadata": {},
     "output_type": "execute_result"
    }
   ],
   "source": [
    "cities\n"
   ]
  },
  {
   "cell_type": "code",
   "execution_count": 53,
   "id": "18b651f4-c5a9-4945-bfe9-72539c4c49e5",
   "metadata": {},
   "outputs": [],
   "source": [
    "cities.append(\"Karachi\")"
   ]
  },
  {
   "cell_type": "code",
   "execution_count": 98,
   "id": "d3b1a60c-43d3-4611-aa68-242f58e5905c",
   "metadata": {},
   "outputs": [
    {
     "data": {
      "text/plain": [
       "['Baltimore',\n",
       " 'Chicago',\n",
       " 'Quetta',\n",
       " 'Denver',\n",
       " 'Los Angeles',\n",
       " 'SEattle',\n",
       " 'Los vagus',\n",
       " 'Karachi',\n",
       " 'Peshawar']"
      ]
     },
     "execution_count": 98,
     "metadata": {},
     "output_type": "execute_result"
    }
   ],
   "source": [
    "cities\n",
    "\n",
    "\n"
   ]
  },
  {
   "cell_type": "code",
   "execution_count": 58,
   "id": "feba38a7-37a5-4a95-901e-23655d903ef9",
   "metadata": {},
   "outputs": [],
   "source": [
    "cities.insert(2,\"Quetta\")"
   ]
  },
  {
   "cell_type": "code",
   "execution_count": 63,
   "id": "726f460d-0bc5-494d-8419-ac8dd75e0337",
   "metadata": {},
   "outputs": [
    {
     "data": {
      "text/plain": [
       "['Baltimore',\n",
       " 'Chicago',\n",
       " 'Quetta',\n",
       " 'Denver',\n",
       " 'Los Angeles',\n",
       " 'SEattle',\n",
       " 'Los vagus',\n",
       " 'Karachi',\n",
       " 'Karachi']"
      ]
     },
     "execution_count": 63,
     "metadata": {},
     "output_type": "execute_result"
    }
   ],
   "source": [
    "cities\n",
    "\n"
   ]
  },
  {
   "cell_type": "code",
   "execution_count": 73,
   "id": "163c9dcf-41ff-4f83-aade-c2ebb7e50157",
   "metadata": {},
   "outputs": [
    {
     "data": {
      "text/plain": [
       "7"
      ]
     },
     "execution_count": 73,
     "metadata": {},
     "output_type": "execute_result"
    }
   ],
   "source": [
    "cities.index(\"Karachi\", 0,8)"
   ]
  },
  {
   "cell_type": "code",
   "execution_count": 74,
   "id": "89f6976c-1289-489a-a660-fc1ec5fe5cc4",
   "metadata": {},
   "outputs": [],
   "source": [
    "cities.remove(\"Karachi\")"
   ]
  },
  {
   "cell_type": "code",
   "execution_count": 88,
   "id": "08a6467c-9aaf-41e6-a77f-0ba543005861",
   "metadata": {},
   "outputs": [
    {
     "data": {
      "text/plain": [
       "['Baltimore',\n",
       " 'Chicago',\n",
       " 'Quetta',\n",
       " 'Denver',\n",
       " 'Los Angeles',\n",
       " 'SEattle',\n",
       " 'Los vagus',\n",
       " 'Karachi']"
      ]
     },
     "execution_count": 88,
     "metadata": {},
     "output_type": "execute_result"
    }
   ],
   "source": [
    "cities"
   ]
  },
  {
   "cell_type": "markdown",
   "id": "08937d6e-ef3f-4277-a763-559cb0f82770",
   "metadata": {},
   "source": [
    "- shallow copy"
   ]
  },
  {
   "cell_type": "code",
   "execution_count": 89,
   "id": "98a7360f-c2ec-4ac7-b039-1b3b500227b7",
   "metadata": {},
   "outputs": [],
   "source": [
    "city_new=cities.copy()"
   ]
  },
  {
   "cell_type": "code",
   "execution_count": 93,
   "id": "95cb8c22-d491-4d78-a7b8-f3477c4cd5bb",
   "metadata": {},
   "outputs": [
    {
     "name": "stdout",
     "output_type": "stream",
     "text": [
      "<class 'list'> <class 'list'>\n"
     ]
    }
   ],
   "source": [
    "print(type(city_new),type(cities))"
   ]
  },
  {
   "cell_type": "markdown",
   "id": "59e75d88-da3c-497c-ac10-6072e12a8960",
   "metadata": {},
   "source": [
    "- deep copy"
   ]
  },
  {
   "cell_type": "code",
   "execution_count": 94,
   "id": "93bd9be5-4506-44e8-9ff3-becf7d91dffb",
   "metadata": {},
   "outputs": [],
   "source": [
    "city_new=cities\n"
   ]
  },
  {
   "cell_type": "code",
   "execution_count": 95,
   "id": "8332e68f-9f93-4e42-8c86-c5fd88ec06c8",
   "metadata": {},
   "outputs": [],
   "source": [
    "city_new.append(\"Peshawar\")"
   ]
  },
  {
   "cell_type": "code",
   "execution_count": 96,
   "id": "1dcfae40-8c21-429f-af63-514bf7c8ac8a",
   "metadata": {},
   "outputs": [
    {
     "data": {
      "text/plain": [
       "['Baltimore',\n",
       " 'Chicago',\n",
       " 'Quetta',\n",
       " 'Denver',\n",
       " 'Los Angeles',\n",
       " 'SEattle',\n",
       " 'Los vagus',\n",
       " 'Karachi',\n",
       " 'Peshawar']"
      ]
     },
     "execution_count": 96,
     "metadata": {},
     "output_type": "execute_result"
    }
   ],
   "source": [
    "city_new\n"
   ]
  },
  {
   "cell_type": "code",
   "execution_count": 97,
   "id": "1ddbf37a-71fc-4b8c-b42b-aa40021f463c",
   "metadata": {},
   "outputs": [
    {
     "data": {
      "text/plain": [
       "['Baltimore',\n",
       " 'Chicago',\n",
       " 'Quetta',\n",
       " 'Denver',\n",
       " 'Los Angeles',\n",
       " 'SEattle',\n",
       " 'Los vagus',\n",
       " 'Karachi',\n",
       " 'Peshawar']"
      ]
     },
     "execution_count": 97,
     "metadata": {},
     "output_type": "execute_result"
    }
   ],
   "source": [
    "cities"
   ]
  },
  {
   "cell_type": "code",
   "execution_count": 99,
   "id": "ab64bab2-a67f-4803-b9f6-a99644c113de",
   "metadata": {},
   "outputs": [
    {
     "data": {
      "text/plain": [
       "['Peshawar',\n",
       " 'Karachi',\n",
       " 'Los vagus',\n",
       " 'SEattle',\n",
       " 'Los Angeles',\n",
       " 'Denver',\n",
       " 'Quetta',\n",
       " 'Chicago',\n",
       " 'Baltimore']"
      ]
     },
     "execution_count": 99,
     "metadata": {},
     "output_type": "execute_result"
    }
   ],
   "source": [
    "cities[::-1]"
   ]
  },
  {
   "cell_type": "markdown",
   "id": "29659fca-e447-48b1-ae23-63acca3a6ba7",
   "metadata": {},
   "source": [
    "- task=create student lost of names and apply all methods that we learn today"
   ]
  },
  {
   "cell_type": "code",
   "execution_count": 100,
   "id": "0b48e64e-9ff0-481a-baa3-ec607c615022",
   "metadata": {},
   "outputs": [],
   "source": [
    "std_name=[\"naushu\",\"shaheem\",\"ghufran\",\"ahad\"]\n",
    "std_name.append(\"faizan\")"
   ]
  },
  {
   "cell_type": "code",
   "execution_count": 101,
   "id": "5ad6d6dc-59c7-4843-bc75-ec20c966b1c2",
   "metadata": {},
   "outputs": [
    {
     "data": {
      "text/plain": [
       "['naushu', 'shaheem', 'ghufran', 'ahad', 'faizan']"
      ]
     },
     "execution_count": 101,
     "metadata": {},
     "output_type": "execute_result"
    }
   ],
   "source": [
    "std_name"
   ]
  },
  {
   "cell_type": "code",
   "execution_count": 107,
   "id": "3e26d57a-39c0-4d8b-9d0a-51a0ac86b140",
   "metadata": {},
   "outputs": [
    {
     "data": {
      "text/plain": [
       "['naushu', 'shaheem', 'ghufran', 'shahzaib', 'ahad', 'faizan']"
      ]
     },
     "execution_count": 107,
     "metadata": {},
     "output_type": "execute_result"
    }
   ],
   "source": [
    "std_name.insert(3,\"shahzaib\")\n",
    "std_name"
   ]
  },
  {
   "cell_type": "code",
   "execution_count": 113,
   "id": "0bd45ad7-90e9-412d-a245-6f799199c0c1",
   "metadata": {},
   "outputs": [
    {
     "data": {
      "text/plain": [
       "2"
      ]
     },
     "execution_count": 113,
     "metadata": {},
     "output_type": "execute_result"
    }
   ],
   "source": [
    "std_name.index(\"ghufran\",0,5)"
   ]
  },
  {
   "cell_type": "code",
   "execution_count": 117,
   "id": "dc44cb1b-330b-4847-a45d-be6703740a50",
   "metadata": {},
   "outputs": [
    {
     "data": {
      "text/plain": [
       "1"
      ]
     },
     "execution_count": 117,
     "metadata": {},
     "output_type": "execute_result"
    }
   ],
   "source": [
    "std_name.count(\"ahad\")"
   ]
  },
  {
   "cell_type": "code",
   "execution_count": 118,
   "id": "5b1c7bd9-3db1-465a-91a8-32df067a5b9c",
   "metadata": {},
   "outputs": [],
   "source": [
    "std_name.remove(\"shaheem\")"
   ]
  },
  {
   "cell_type": "code",
   "execution_count": 119,
   "id": "a8792e31-dbb6-491b-b61a-7e76e8f8fde1",
   "metadata": {},
   "outputs": [
    {
     "data": {
      "text/plain": [
       "['naushu', 'ghufran', 'shahzaib', 'ahad', 'faizan']"
      ]
     },
     "execution_count": 119,
     "metadata": {},
     "output_type": "execute_result"
    }
   ],
   "source": [
    "std_name"
   ]
  },
  {
   "cell_type": "code",
   "execution_count": 123,
   "id": "b09250bb-b2da-496c-89c2-067f48456783",
   "metadata": {},
   "outputs": [
    {
     "data": {
      "text/plain": [
       "'faizan'"
      ]
     },
     "execution_count": 123,
     "metadata": {},
     "output_type": "execute_result"
    }
   ],
   "source": [
    "std_name.pop(4)"
   ]
  },
  {
   "cell_type": "code",
   "execution_count": 124,
   "id": "c177acda-7e13-42c1-96e4-fa23dd3774ee",
   "metadata": {},
   "outputs": [
    {
     "data": {
      "text/plain": [
       "['naushu', 'ghufran', 'shahzaib', 'ahad']"
      ]
     },
     "execution_count": 124,
     "metadata": {},
     "output_type": "execute_result"
    }
   ],
   "source": [
    "std_name"
   ]
  },
  {
   "cell_type": "code",
   "execution_count": 125,
   "id": "717ccacf-7bcc-4bef-8971-b8e01f6c20c0",
   "metadata": {},
   "outputs": [],
   "source": [
    "std_name.extend(\"faizan\")"
   ]
  },
  {
   "cell_type": "code",
   "execution_count": 156,
   "id": "ede8ef32-5c0b-471c-bc8a-b4b0651529b4",
   "metadata": {},
   "outputs": [
    {
     "data": {
      "text/plain": [
       "['naushu', 'ghufran', 'shahzaib', 'ahad', 'f', 'a', 'i', 'z', 'a', 'n']"
      ]
     },
     "execution_count": 156,
     "metadata": {},
     "output_type": "execute_result"
    }
   ],
   "source": [
    "std_name"
   ]
  },
  {
   "cell_type": "code",
   "execution_count": 154,
   "id": "e536a729-662b-4983-a1b3-ec684df405ee",
   "metadata": {},
   "outputs": [
    {
     "data": {
      "text/plain": [
       "['n', 'a', 'z', 'i', 'a', 'f']"
      ]
     },
     "execution_count": 154,
     "metadata": {},
     "output_type": "execute_result"
    }
   ],
   "source": [
    "std = std_name[::-1]\n",
    "std[:6]"
   ]
  },
  {
   "cell_type": "code",
   "execution_count": 157,
   "id": "3cc32dd0-2119-4196-8421-ed3ca4ed4eff",
   "metadata": {},
   "outputs": [
    {
     "data": {
      "text/plain": [
       "['naushu', 'ghufran', 'shahzaib', 'ahad', 'f', 'a', 'i', 'z', 'a', 'n']"
      ]
     },
     "execution_count": 157,
     "metadata": {},
     "output_type": "execute_result"
    }
   ],
   "source": [
    "std_name"
   ]
  },
  {
   "cell_type": "code",
   "execution_count": 158,
   "id": "7e8b69a3-b553-4d4a-86a5-71e18d26cd5c",
   "metadata": {},
   "outputs": [],
   "source": [
    "del std_name[5]"
   ]
  },
  {
   "cell_type": "code",
   "execution_count": 159,
   "id": "0ea76157-af34-4375-af81-d064bb58c13c",
   "metadata": {},
   "outputs": [
    {
     "data": {
      "text/plain": [
       "['naushu', 'ghufran', 'shahzaib', 'ahad', 'f', 'i', 'z', 'a', 'n']"
      ]
     },
     "execution_count": 159,
     "metadata": {},
     "output_type": "execute_result"
    }
   ],
   "source": [
    "std_name"
   ]
  },
  {
   "cell_type": "code",
   "execution_count": 162,
   "id": "7bd86053-2ab5-421a-bd98-3e2334b2a337",
   "metadata": {},
   "outputs": [],
   "source": [
    "bio_data=['faizan',34,True,\"ali\",2]"
   ]
  },
  {
   "cell_type": "code",
   "execution_count": 163,
   "id": "73ee45f5-27b0-4a82-90af-a3be14ca494a",
   "metadata": {},
   "outputs": [
    {
     "data": {
      "text/plain": [
       "{2, 34, True, 'ali', 'faizan'}"
      ]
     },
     "execution_count": 163,
     "metadata": {},
     "output_type": "execute_result"
    }
   ],
   "source": [
    "set(bio_data)"
   ]
  },
  {
   "cell_type": "code",
   "execution_count": 164,
   "id": "d64b6a1d-3e3d-4025-9291-2cf68f015053",
   "metadata": {},
   "outputs": [
    {
     "data": {
      "text/plain": [
       "('faizan', 34, True, 'ali', 2)"
      ]
     },
     "execution_count": 164,
     "metadata": {},
     "output_type": "execute_result"
    }
   ],
   "source": [
    "tuple(bio_data)"
   ]
  },
  {
   "cell_type": "code",
   "execution_count": 171,
   "id": "ee46a112-98b7-47a3-aa6b-1196de0a29cb",
   "metadata": {},
   "outputs": [],
   "source": [
    "set_a={'a','b'}\n",
    "set_b={'c','d'}\n",
    "uni_set={'a','b','c','d'}\n",
    "set_c = {'e','f'}"
   ]
  },
  {
   "cell_type": "code",
   "execution_count": 166,
   "id": "ba971703-d8e0-4e09-8ae2-ae3b298b870a",
   "metadata": {},
   "outputs": [
    {
     "data": {
      "text/plain": [
       "{'a', 'b'}"
      ]
     },
     "execution_count": 166,
     "metadata": {},
     "output_type": "execute_result"
    }
   ],
   "source": [
    "set_a"
   ]
  },
  {
   "cell_type": "code",
   "execution_count": 167,
   "id": "77844868-4301-485e-aa84-9e8f906a5e36",
   "metadata": {},
   "outputs": [
    {
     "data": {
      "text/plain": [
       "{'c', 'd'}"
      ]
     },
     "execution_count": 167,
     "metadata": {},
     "output_type": "execute_result"
    }
   ],
   "source": [
    "set_b"
   ]
  },
  {
   "cell_type": "code",
   "execution_count": 168,
   "id": "35b61936-8d13-44e0-958e-b5258519547e",
   "metadata": {},
   "outputs": [
    {
     "data": {
      "text/plain": [
       "{'a', 'b', 'c', 'd'}"
      ]
     },
     "execution_count": 168,
     "metadata": {},
     "output_type": "execute_result"
    }
   ],
   "source": [
    "uni_set"
   ]
  },
  {
   "cell_type": "code",
   "execution_count": 169,
   "id": "af27e4fb-aab9-4565-9779-e3c6b44e0b45",
   "metadata": {},
   "outputs": [
    {
     "data": {
      "text/plain": [
       "{'a', 'b'}"
      ]
     },
     "execution_count": 169,
     "metadata": {},
     "output_type": "execute_result"
    }
   ],
   "source": [
    "uni_set.difference(set_b)"
   ]
  },
  {
   "cell_type": "code",
   "execution_count": 172,
   "id": "2e222f66-7c9a-4484-889f-99b83a468218",
   "metadata": {},
   "outputs": [
    {
     "data": {
      "text/plain": [
       "{'a', 'b', 'c', 'd', 'e', 'f'}"
      ]
     },
     "execution_count": 172,
     "metadata": {},
     "output_type": "execute_result"
    }
   ],
   "source": [
    "uni_set.union(set_c)"
   ]
  },
  {
   "cell_type": "code",
   "execution_count": 177,
   "id": "8d0260ad-8177-4528-9f08-68237dc0701c",
   "metadata": {},
   "outputs": [],
   "source": [
    "uni_set.clear()"
   ]
  },
  {
   "cell_type": "code",
   "execution_count": 178,
   "id": "84cbadf7-a409-4d7e-b320-7fdb349a15aa",
   "metadata": {},
   "outputs": [
    {
     "data": {
      "text/plain": [
       "set()"
      ]
     },
     "execution_count": 178,
     "metadata": {},
     "output_type": "execute_result"
    }
   ],
   "source": [
    "uni_set"
   ]
  },
  {
   "cell_type": "code",
   "execution_count": 180,
   "id": "c4164ced-b926-44db-9747-13741d168f87",
   "metadata": {},
   "outputs": [],
   "source": [
    "uni_set.update('a','b','c','d','e','f')"
   ]
  },
  {
   "cell_type": "code",
   "execution_count": 181,
   "id": "d9229f8f-1ff6-4907-b1ab-ada7cdf96b95",
   "metadata": {},
   "outputs": [
    {
     "data": {
      "text/plain": [
       "{'a', 'b', 'c', 'd', 'e', 'f'}"
      ]
     },
     "execution_count": 181,
     "metadata": {},
     "output_type": "execute_result"
    }
   ],
   "source": [
    "uni_set"
   ]
  },
  {
   "cell_type": "code",
   "execution_count": null,
   "id": "ab0bf9e3-4cb6-40d0-8f70-9f7d09911941",
   "metadata": {},
   "outputs": [],
   "source": [
    "uni_set."
   ]
  }
 ],
 "metadata": {
  "kernelspec": {
   "display_name": "Python 3 (ipykernel)",
   "language": "python",
   "name": "python3"
  },
  "language_info": {
   "codemirror_mode": {
    "name": "ipython",
    "version": 3
   },
   "file_extension": ".py",
   "mimetype": "text/x-python",
   "name": "python",
   "nbconvert_exporter": "python",
   "pygments_lexer": "ipython3",
   "version": "3.13.5"
  }
 },
 "nbformat": 4,
 "nbformat_minor": 5
}
