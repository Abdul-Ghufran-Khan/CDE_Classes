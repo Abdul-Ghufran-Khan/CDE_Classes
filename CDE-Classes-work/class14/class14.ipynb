{
 "cells": [
  {
   "cell_type": "markdown",
   "id": "f1ce52f2-9654-4357-90f1-e841c0e43869",
   "metadata": {},
   "source": [
    "# OOP (Object Oriented Programng) "
   ]
  },
  {
   "cell_type": "markdown",
   "id": "f6dc055e-10da-4f47-b837-cf94898236d0",
   "metadata": {},
   "source": [
    "- Inherintence\n",
    "- Encapsulation\n",
    "- Polymorphism\n",
    "- Abstraction"
   ]
  },
  {
   "cell_type": "code",
   "execution_count": 1,
   "id": "2e2b4f10-7bcd-456d-b888-9ad6e2bc36ee",
   "metadata": {},
   "outputs": [],
   "source": [
    "class Father():\n",
    "    def __init__(self , hair_type , face_type):\n",
    "        self.hair_type = hair_type\n",
    "        self.face_type = face_type\n",
    "\n",
    "    def can_skydive(self):\n",
    "        print(f\"Father is a good skydiver\")"
   ]
  },
  {
   "cell_type": "code",
   "execution_count": 2,
   "id": "e53ca87e-a3bf-45f1-846a-c84141e99030",
   "metadata": {},
   "outputs": [],
   "source": [
    "Father_Obj = Father(\"Silky\" , \"Sharp\")"
   ]
  },
  {
   "cell_type": "code",
   "execution_count": 3,
   "id": "245fb52c-05e5-4bbd-9e10-91302ad0d3d5",
   "metadata": {},
   "outputs": [
    {
     "data": {
      "text/plain": [
       "'Silky'"
      ]
     },
     "execution_count": 3,
     "metadata": {},
     "output_type": "execute_result"
    }
   ],
   "source": [
    "Father_Obj.hair_type"
   ]
  },
  {
   "cell_type": "code",
   "execution_count": 4,
   "id": "cc7200da-6936-4d65-ac19-72a5cfee7bd2",
   "metadata": {},
   "outputs": [],
   "source": [
    "class Mother():\n",
    "    def __init__(self , skin_type):\n",
    "        self.skin_type = skin_type\n",
    "\n",
    "    def can_cook(self):\n",
    "        print(f\"Mother is a good cooker\")"
   ]
  },
  {
   "cell_type": "code",
   "execution_count": 5,
   "id": "817fdba0-530c-4a3e-abf6-69eb72f75803",
   "metadata": {},
   "outputs": [],
   "source": [
    "Mother_Obj = Mother(\"Dry\")"
   ]
  },
  {
   "cell_type": "code",
   "execution_count": 6,
   "id": "2551109f-54e9-4ff3-a7dd-a0ee208e1457",
   "metadata": {},
   "outputs": [
    {
     "data": {
      "text/plain": [
       "'Dry'"
      ]
     },
     "execution_count": 6,
     "metadata": {},
     "output_type": "execute_result"
    }
   ],
   "source": [
    "Mother_Obj.skin_type"
   ]
  },
  {
   "cell_type": "code",
   "execution_count": 11,
   "id": "de844264-b036-48ef-86a3-e84289f9214c",
   "metadata": {},
   "outputs": [],
   "source": [
    "class Child(Father , Mother):\n",
    "                         # f            f            m          c             c\n",
    "    def __init__(self , hair_type , face_type ,  skin_type , body_type , behavior_type ): #constructor overriding\n",
    "        Father.__init__(self, hair_type , face_type)\n",
    "        Mother.__init__(self, skin_type)\n",
    "        self.body_type = body_type\n",
    "        self.behavior_type = behavior_type\n",
    "\n",
    "    def can_magic(self):\n",
    "        print(f\"Child can do magic\")"
   ]
  },
  {
   "cell_type": "code",
   "execution_count": 16,
   "id": "63f664b6-1aec-4d9b-8a48-e1c176d29c5f",
   "metadata": {},
   "outputs": [],
   "source": [
    "Child_Obj = Child(\"Curly\" , \"Sharp\" , \"Dry\" , \"Skinny\" , \"Harsh\")"
   ]
  },
  {
   "cell_type": "code",
   "execution_count": 19,
   "id": "43cd156d-781d-4ae1-9d2b-5995f8718b5e",
   "metadata": {},
   "outputs": [
    {
     "data": {
      "text/plain": [
       "'Curly'"
      ]
     },
     "execution_count": 19,
     "metadata": {},
     "output_type": "execute_result"
    }
   ],
   "source": [
    "Child_Obj.hair_type"
   ]
  },
  {
   "cell_type": "code",
   "execution_count": 18,
   "id": "4147465a-2695-4bf3-8eba-5f0c4781de5a",
   "metadata": {},
   "outputs": [
    {
     "data": {
      "text/plain": [
       "'Silky'"
      ]
     },
     "execution_count": 18,
     "metadata": {},
     "output_type": "execute_result"
    }
   ],
   "source": [
    "Father_Obj.hair_type"
   ]
  },
  {
   "cell_type": "markdown",
   "id": "19c2a1a8-62ba-4699-b181-0492f3a794b2",
   "metadata": {},
   "source": [
    "## Overriding"
   ]
  },
  {
   "cell_type": "code",
   "execution_count": 36,
   "id": "e3fa1baf-6d38-4a54-98d8-b99b1c5f7fc0",
   "metadata": {},
   "outputs": [
    {
     "name": "stdout",
     "output_type": "stream",
     "text": [
      "Animals can eat\n",
      "Birds can eat\n"
     ]
    }
   ],
   "source": [
    "class Animals:\n",
    "    def eating(self):\n",
    "        print(\"Animals can eat\")\n",
    "\n",
    "class Birds(Animals):\n",
    "    def eating(self):\n",
    "        print(\"Birds can eat\")\n",
    "\n",
    "# Object of parent class\n",
    "a = Animals()\n",
    "a.eating()   # Calls parent method\n",
    "\n",
    "# Object of child class\n",
    "b = Birds()\n",
    "b.eating()   # Calls overridden method\n"
   ]
  },
  {
   "cell_type": "code",
   "execution_count": null,
   "id": "aac191c7-0688-4d39-a7f8-536ad8f636cd",
   "metadata": {},
   "outputs": [],
   "source": []
  },
  {
   "cell_type": "markdown",
   "id": "d9a72d58-a7df-4970-be80-75767e7ab9b6",
   "metadata": {},
   "source": [
    "##  Overloading"
   ]
  },
  {
   "cell_type": "code",
   "execution_count": 27,
   "id": "e10c0864-2a0d-4538-b6c9-8b97b4461bfc",
   "metadata": {},
   "outputs": [],
   "source": [
    "from typing  import  overload\n",
    "\n",
    "class Adder():\n",
    "\n",
    "    @overload\n",
    "    def add(self, x:int , y:int ) ->int:\n",
    "        ...\n",
    "    @overload\n",
    "    def add(self, x:float , y:float ) ->float:\n",
    "        ...\n",
    "    @overload\n",
    "    def add(self, x:str , y:str ) ->str:\n",
    "        ...\n",
    "\n",
    "\n",
    "    \n",
    "    def add(self , x , y):\n",
    "        if isinstance(x, int) and isinstance(y, int):\n",
    "            return x+y\n",
    "        elif isinstance(x, float) and isinstance(y, float):\n",
    "            return x+y\n",
    "        elif isinstance(x, str) and isinstance(y, str):\n",
    "            return x+y\n",
    "        else:\n",
    "            print(\"type error\")"
   ]
  },
  {
   "cell_type": "code",
   "execution_count": 28,
   "id": "d5df966f-8eab-46fe-8ab5-a8ae10fe99a2",
   "metadata": {},
   "outputs": [],
   "source": [
    "adder_obj=Adder()"
   ]
  },
  {
   "cell_type": "code",
   "execution_count": 31,
   "id": "b55c2230-38ca-44a9-8c1c-9800ab9d3067",
   "metadata": {},
   "outputs": [
    {
     "data": {
      "text/plain": [
       "7"
      ]
     },
     "execution_count": 31,
     "metadata": {},
     "output_type": "execute_result"
    }
   ],
   "source": [
    "adder_obj.add(2,5) #int"
   ]
  },
  {
   "cell_type": "code",
   "execution_count": 32,
   "id": "d3821a42-1f04-4557-99f7-19891de14fa0",
   "metadata": {},
   "outputs": [
    {
     "data": {
      "text/plain": [
       "7.5"
      ]
     },
     "execution_count": 32,
     "metadata": {},
     "output_type": "execute_result"
    }
   ],
   "source": [
    "adder_obj.add(2.5,5.0) #float"
   ]
  },
  {
   "cell_type": "code",
   "execution_count": 34,
   "id": "5382abf3-3780-4860-9938-99a3bf1535fb",
   "metadata": {},
   "outputs": [
    {
     "data": {
      "text/plain": [
       "'saylaniZA It Park'"
      ]
     },
     "execution_count": 34,
     "metadata": {},
     "output_type": "execute_result"
    }
   ],
   "source": [
    "adder_obj.add(\"saylani\",\"ZA It Park\") #str"
   ]
  },
  {
   "cell_type": "code",
   "execution_count": null,
   "id": "9de70c19-6422-4d39-9e53-4b84a4edeec2",
   "metadata": {},
   "outputs": [],
   "source": []
  }
 ],
 "metadata": {
  "kernelspec": {
   "display_name": "Python 3 (ipykernel)",
   "language": "python",
   "name": "python3"
  },
  "language_info": {
   "codemirror_mode": {
    "name": "ipython",
    "version": 3
   },
   "file_extension": ".py",
   "mimetype": "text/x-python",
   "name": "python",
   "nbconvert_exporter": "python",
   "pygments_lexer": "ipython3",
   "version": "3.13.5"
  }
 },
 "nbformat": 4,
 "nbformat_minor": 5
}
